{
  "nbformat": 4,
  "nbformat_minor": 0,
  "metadata": {
    "kernelspec": {
      "display_name": "Python 3",
      "language": "python",
      "name": "python3"
    },
    "language_info": {
      "codemirror_mode": {
        "name": "ipython",
        "version": 3
      },
      "file_extension": ".py",
      "mimetype": "text/x-python",
      "name": "python",
      "nbconvert_exporter": "python",
      "pygments_lexer": "ipython3",
      "version": "3.8.5"
    },
    "colab": {
      "name": "Heart Disease Prediction .ipynb",
      "provenance": [],
      "include_colab_link": true
    }
  },
  "cells": [
    {
      "cell_type": "markdown",
      "metadata": {
        "id": "view-in-github",
        "colab_type": "text"
      },
      "source": [
        "<a href=\"https://colab.research.google.com/github/Adarsh63/Heart-Disease-Prediction/blob/main/Heart_Disease_Prediction_.ipynb\" target=\"_parent\"><img src=\"https://colab.research.google.com/assets/colab-badge.svg\" alt=\"Open In Colab\"/></a>"
      ]
    },
    {
      "cell_type": "markdown",
      "metadata": {
        "id": "N1kpmdOGfYcZ"
      },
      "source": [
        "# Heart Disease Prediction "
      ]
    },
    {
      "cell_type": "code",
      "metadata": {
        "id": "owkazV1ZfYca"
      },
      "source": [
        "#required library \n",
        "import pandas as pd \n",
        "import numpy as np\n",
        "import matplotlib.pyplot as plt\n",
        "import seaborn as sns"
      ],
      "execution_count": null,
      "outputs": []
    },
    {
      "cell_type": "code",
      "metadata": {
        "scrolled": true,
        "id": "Y1__bSi5fYcb",
        "outputId": "ff17db73-4a6d-4e89-edf0-5715f97f3da7"
      },
      "source": [
        "#upload data \n",
        "data = pd.read_csv(\"C:\\\\Users\\\\ADARSH\\\\Downloads\\\\heart.csv\")\n",
        "data.info()"
      ],
      "execution_count": null,
      "outputs": [
        {
          "output_type": "stream",
          "text": [
            "<class 'pandas.core.frame.DataFrame'>\n",
            "RangeIndex: 303 entries, 0 to 302\n",
            "Data columns (total 14 columns):\n",
            " #   Column    Non-Null Count  Dtype  \n",
            "---  ------    --------------  -----  \n",
            " 0   age       303 non-null    int64  \n",
            " 1   sex       303 non-null    int64  \n",
            " 2   cp        303 non-null    int64  \n",
            " 3   trestbps  303 non-null    int64  \n",
            " 4   chol      303 non-null    int64  \n",
            " 5   fbs       303 non-null    int64  \n",
            " 6   restecg   303 non-null    int64  \n",
            " 7   thalach   303 non-null    int64  \n",
            " 8   exang     303 non-null    int64  \n",
            " 9   oldpeak   303 non-null    float64\n",
            " 10  slope     303 non-null    int64  \n",
            " 11  ca        303 non-null    int64  \n",
            " 12  thal      303 non-null    int64  \n",
            " 13  target    303 non-null    int64  \n",
            "dtypes: float64(1), int64(13)\n",
            "memory usage: 33.3 KB\n"
          ],
          "name": "stdout"
        }
      ]
    },
    {
      "cell_type": "code",
      "metadata": {
        "id": "_YcPS4GcfYcc",
        "outputId": "267c24a5-99d4-4fc7-9e63-bf1fa67a6fd1"
      },
      "source": [
        "data.shape"
      ],
      "execution_count": null,
      "outputs": [
        {
          "output_type": "execute_result",
          "data": {
            "text/plain": [
              "(303, 14)"
            ]
          },
          "metadata": {
            "tags": []
          },
          "execution_count": 12
        }
      ]
    },
    {
      "cell_type": "code",
      "metadata": {
        "id": "PkkAWj5jfYcc",
        "outputId": "e09d519b-446e-4427-e867-7f2a03d7584d"
      },
      "source": [
        "data.head(10)"
      ],
      "execution_count": null,
      "outputs": [
        {
          "output_type": "execute_result",
          "data": {
            "text/html": [
              "<div>\n",
              "<style scoped>\n",
              "    .dataframe tbody tr th:only-of-type {\n",
              "        vertical-align: middle;\n",
              "    }\n",
              "\n",
              "    .dataframe tbody tr th {\n",
              "        vertical-align: top;\n",
              "    }\n",
              "\n",
              "    .dataframe thead th {\n",
              "        text-align: right;\n",
              "    }\n",
              "</style>\n",
              "<table border=\"1\" class=\"dataframe\">\n",
              "  <thead>\n",
              "    <tr style=\"text-align: right;\">\n",
              "      <th></th>\n",
              "      <th>age</th>\n",
              "      <th>sex</th>\n",
              "      <th>cp</th>\n",
              "      <th>trestbps</th>\n",
              "      <th>chol</th>\n",
              "      <th>fbs</th>\n",
              "      <th>restecg</th>\n",
              "      <th>thalach</th>\n",
              "      <th>exang</th>\n",
              "      <th>oldpeak</th>\n",
              "      <th>slope</th>\n",
              "      <th>ca</th>\n",
              "      <th>thal</th>\n",
              "      <th>target</th>\n",
              "    </tr>\n",
              "  </thead>\n",
              "  <tbody>\n",
              "    <tr>\n",
              "      <th>0</th>\n",
              "      <td>63</td>\n",
              "      <td>1</td>\n",
              "      <td>3</td>\n",
              "      <td>145</td>\n",
              "      <td>233</td>\n",
              "      <td>1</td>\n",
              "      <td>0</td>\n",
              "      <td>150</td>\n",
              "      <td>0</td>\n",
              "      <td>2.3</td>\n",
              "      <td>0</td>\n",
              "      <td>0</td>\n",
              "      <td>1</td>\n",
              "      <td>1</td>\n",
              "    </tr>\n",
              "    <tr>\n",
              "      <th>1</th>\n",
              "      <td>37</td>\n",
              "      <td>1</td>\n",
              "      <td>2</td>\n",
              "      <td>130</td>\n",
              "      <td>250</td>\n",
              "      <td>0</td>\n",
              "      <td>1</td>\n",
              "      <td>187</td>\n",
              "      <td>0</td>\n",
              "      <td>3.5</td>\n",
              "      <td>0</td>\n",
              "      <td>0</td>\n",
              "      <td>2</td>\n",
              "      <td>1</td>\n",
              "    </tr>\n",
              "    <tr>\n",
              "      <th>2</th>\n",
              "      <td>41</td>\n",
              "      <td>0</td>\n",
              "      <td>1</td>\n",
              "      <td>130</td>\n",
              "      <td>204</td>\n",
              "      <td>0</td>\n",
              "      <td>0</td>\n",
              "      <td>172</td>\n",
              "      <td>0</td>\n",
              "      <td>1.4</td>\n",
              "      <td>2</td>\n",
              "      <td>0</td>\n",
              "      <td>2</td>\n",
              "      <td>1</td>\n",
              "    </tr>\n",
              "    <tr>\n",
              "      <th>3</th>\n",
              "      <td>56</td>\n",
              "      <td>1</td>\n",
              "      <td>1</td>\n",
              "      <td>120</td>\n",
              "      <td>236</td>\n",
              "      <td>0</td>\n",
              "      <td>1</td>\n",
              "      <td>178</td>\n",
              "      <td>0</td>\n",
              "      <td>0.8</td>\n",
              "      <td>2</td>\n",
              "      <td>0</td>\n",
              "      <td>2</td>\n",
              "      <td>1</td>\n",
              "    </tr>\n",
              "    <tr>\n",
              "      <th>4</th>\n",
              "      <td>57</td>\n",
              "      <td>0</td>\n",
              "      <td>0</td>\n",
              "      <td>120</td>\n",
              "      <td>354</td>\n",
              "      <td>0</td>\n",
              "      <td>1</td>\n",
              "      <td>163</td>\n",
              "      <td>1</td>\n",
              "      <td>0.6</td>\n",
              "      <td>2</td>\n",
              "      <td>0</td>\n",
              "      <td>2</td>\n",
              "      <td>1</td>\n",
              "    </tr>\n",
              "    <tr>\n",
              "      <th>5</th>\n",
              "      <td>57</td>\n",
              "      <td>1</td>\n",
              "      <td>0</td>\n",
              "      <td>140</td>\n",
              "      <td>192</td>\n",
              "      <td>0</td>\n",
              "      <td>1</td>\n",
              "      <td>148</td>\n",
              "      <td>0</td>\n",
              "      <td>0.4</td>\n",
              "      <td>1</td>\n",
              "      <td>0</td>\n",
              "      <td>1</td>\n",
              "      <td>1</td>\n",
              "    </tr>\n",
              "    <tr>\n",
              "      <th>6</th>\n",
              "      <td>56</td>\n",
              "      <td>0</td>\n",
              "      <td>1</td>\n",
              "      <td>140</td>\n",
              "      <td>294</td>\n",
              "      <td>0</td>\n",
              "      <td>0</td>\n",
              "      <td>153</td>\n",
              "      <td>0</td>\n",
              "      <td>1.3</td>\n",
              "      <td>1</td>\n",
              "      <td>0</td>\n",
              "      <td>2</td>\n",
              "      <td>1</td>\n",
              "    </tr>\n",
              "    <tr>\n",
              "      <th>7</th>\n",
              "      <td>44</td>\n",
              "      <td>1</td>\n",
              "      <td>1</td>\n",
              "      <td>120</td>\n",
              "      <td>263</td>\n",
              "      <td>0</td>\n",
              "      <td>1</td>\n",
              "      <td>173</td>\n",
              "      <td>0</td>\n",
              "      <td>0.0</td>\n",
              "      <td>2</td>\n",
              "      <td>0</td>\n",
              "      <td>3</td>\n",
              "      <td>1</td>\n",
              "    </tr>\n",
              "    <tr>\n",
              "      <th>8</th>\n",
              "      <td>52</td>\n",
              "      <td>1</td>\n",
              "      <td>2</td>\n",
              "      <td>172</td>\n",
              "      <td>199</td>\n",
              "      <td>1</td>\n",
              "      <td>1</td>\n",
              "      <td>162</td>\n",
              "      <td>0</td>\n",
              "      <td>0.5</td>\n",
              "      <td>2</td>\n",
              "      <td>0</td>\n",
              "      <td>3</td>\n",
              "      <td>1</td>\n",
              "    </tr>\n",
              "    <tr>\n",
              "      <th>9</th>\n",
              "      <td>57</td>\n",
              "      <td>1</td>\n",
              "      <td>2</td>\n",
              "      <td>150</td>\n",
              "      <td>168</td>\n",
              "      <td>0</td>\n",
              "      <td>1</td>\n",
              "      <td>174</td>\n",
              "      <td>0</td>\n",
              "      <td>1.6</td>\n",
              "      <td>2</td>\n",
              "      <td>0</td>\n",
              "      <td>2</td>\n",
              "      <td>1</td>\n",
              "    </tr>\n",
              "  </tbody>\n",
              "</table>\n",
              "</div>"
            ],
            "text/plain": [
              "   age  sex  cp  trestbps  chol  fbs  restecg  thalach  exang  oldpeak  slope  \\\n",
              "0   63    1   3       145   233    1        0      150      0      2.3      0   \n",
              "1   37    1   2       130   250    0        1      187      0      3.5      0   \n",
              "2   41    0   1       130   204    0        0      172      0      1.4      2   \n",
              "3   56    1   1       120   236    0        1      178      0      0.8      2   \n",
              "4   57    0   0       120   354    0        1      163      1      0.6      2   \n",
              "5   57    1   0       140   192    0        1      148      0      0.4      1   \n",
              "6   56    0   1       140   294    0        0      153      0      1.3      1   \n",
              "7   44    1   1       120   263    0        1      173      0      0.0      2   \n",
              "8   52    1   2       172   199    1        1      162      0      0.5      2   \n",
              "9   57    1   2       150   168    0        1      174      0      1.6      2   \n",
              "\n",
              "   ca  thal  target  \n",
              "0   0     1       1  \n",
              "1   0     2       1  \n",
              "2   0     2       1  \n",
              "3   0     2       1  \n",
              "4   0     2       1  \n",
              "5   0     1       1  \n",
              "6   0     2       1  \n",
              "7   0     3       1  \n",
              "8   0     3       1  \n",
              "9   0     2       1  "
            ]
          },
          "metadata": {
            "tags": []
          },
          "execution_count": 13
        }
      ]
    },
    {
      "cell_type": "code",
      "metadata": {
        "id": "20ZvqZDZfYcc",
        "outputId": "90abd5c7-ed1c-4e70-e013-47519508e54d"
      },
      "source": [
        "data.describe()"
      ],
      "execution_count": null,
      "outputs": [
        {
          "output_type": "execute_result",
          "data": {
            "text/html": [
              "<div>\n",
              "<style scoped>\n",
              "    .dataframe tbody tr th:only-of-type {\n",
              "        vertical-align: middle;\n",
              "    }\n",
              "\n",
              "    .dataframe tbody tr th {\n",
              "        vertical-align: top;\n",
              "    }\n",
              "\n",
              "    .dataframe thead th {\n",
              "        text-align: right;\n",
              "    }\n",
              "</style>\n",
              "<table border=\"1\" class=\"dataframe\">\n",
              "  <thead>\n",
              "    <tr style=\"text-align: right;\">\n",
              "      <th></th>\n",
              "      <th>age</th>\n",
              "      <th>sex</th>\n",
              "      <th>cp</th>\n",
              "      <th>trestbps</th>\n",
              "      <th>chol</th>\n",
              "      <th>fbs</th>\n",
              "      <th>restecg</th>\n",
              "      <th>thalach</th>\n",
              "      <th>exang</th>\n",
              "      <th>oldpeak</th>\n",
              "      <th>slope</th>\n",
              "      <th>ca</th>\n",
              "      <th>thal</th>\n",
              "      <th>target</th>\n",
              "    </tr>\n",
              "  </thead>\n",
              "  <tbody>\n",
              "    <tr>\n",
              "      <th>count</th>\n",
              "      <td>303.000000</td>\n",
              "      <td>303.000000</td>\n",
              "      <td>303.000000</td>\n",
              "      <td>303.000000</td>\n",
              "      <td>303.000000</td>\n",
              "      <td>303.000000</td>\n",
              "      <td>303.000000</td>\n",
              "      <td>303.000000</td>\n",
              "      <td>303.000000</td>\n",
              "      <td>303.000000</td>\n",
              "      <td>303.000000</td>\n",
              "      <td>303.000000</td>\n",
              "      <td>303.000000</td>\n",
              "      <td>303.000000</td>\n",
              "    </tr>\n",
              "    <tr>\n",
              "      <th>mean</th>\n",
              "      <td>54.366337</td>\n",
              "      <td>0.683168</td>\n",
              "      <td>0.966997</td>\n",
              "      <td>131.623762</td>\n",
              "      <td>246.264026</td>\n",
              "      <td>0.148515</td>\n",
              "      <td>0.528053</td>\n",
              "      <td>149.646865</td>\n",
              "      <td>0.326733</td>\n",
              "      <td>1.039604</td>\n",
              "      <td>1.399340</td>\n",
              "      <td>0.729373</td>\n",
              "      <td>2.313531</td>\n",
              "      <td>0.544554</td>\n",
              "    </tr>\n",
              "    <tr>\n",
              "      <th>std</th>\n",
              "      <td>9.082101</td>\n",
              "      <td>0.466011</td>\n",
              "      <td>1.032052</td>\n",
              "      <td>17.538143</td>\n",
              "      <td>51.830751</td>\n",
              "      <td>0.356198</td>\n",
              "      <td>0.525860</td>\n",
              "      <td>22.905161</td>\n",
              "      <td>0.469794</td>\n",
              "      <td>1.161075</td>\n",
              "      <td>0.616226</td>\n",
              "      <td>1.022606</td>\n",
              "      <td>0.612277</td>\n",
              "      <td>0.498835</td>\n",
              "    </tr>\n",
              "    <tr>\n",
              "      <th>min</th>\n",
              "      <td>29.000000</td>\n",
              "      <td>0.000000</td>\n",
              "      <td>0.000000</td>\n",
              "      <td>94.000000</td>\n",
              "      <td>126.000000</td>\n",
              "      <td>0.000000</td>\n",
              "      <td>0.000000</td>\n",
              "      <td>71.000000</td>\n",
              "      <td>0.000000</td>\n",
              "      <td>0.000000</td>\n",
              "      <td>0.000000</td>\n",
              "      <td>0.000000</td>\n",
              "      <td>0.000000</td>\n",
              "      <td>0.000000</td>\n",
              "    </tr>\n",
              "    <tr>\n",
              "      <th>25%</th>\n",
              "      <td>47.500000</td>\n",
              "      <td>0.000000</td>\n",
              "      <td>0.000000</td>\n",
              "      <td>120.000000</td>\n",
              "      <td>211.000000</td>\n",
              "      <td>0.000000</td>\n",
              "      <td>0.000000</td>\n",
              "      <td>133.500000</td>\n",
              "      <td>0.000000</td>\n",
              "      <td>0.000000</td>\n",
              "      <td>1.000000</td>\n",
              "      <td>0.000000</td>\n",
              "      <td>2.000000</td>\n",
              "      <td>0.000000</td>\n",
              "    </tr>\n",
              "    <tr>\n",
              "      <th>50%</th>\n",
              "      <td>55.000000</td>\n",
              "      <td>1.000000</td>\n",
              "      <td>1.000000</td>\n",
              "      <td>130.000000</td>\n",
              "      <td>240.000000</td>\n",
              "      <td>0.000000</td>\n",
              "      <td>1.000000</td>\n",
              "      <td>153.000000</td>\n",
              "      <td>0.000000</td>\n",
              "      <td>0.800000</td>\n",
              "      <td>1.000000</td>\n",
              "      <td>0.000000</td>\n",
              "      <td>2.000000</td>\n",
              "      <td>1.000000</td>\n",
              "    </tr>\n",
              "    <tr>\n",
              "      <th>75%</th>\n",
              "      <td>61.000000</td>\n",
              "      <td>1.000000</td>\n",
              "      <td>2.000000</td>\n",
              "      <td>140.000000</td>\n",
              "      <td>274.500000</td>\n",
              "      <td>0.000000</td>\n",
              "      <td>1.000000</td>\n",
              "      <td>166.000000</td>\n",
              "      <td>1.000000</td>\n",
              "      <td>1.600000</td>\n",
              "      <td>2.000000</td>\n",
              "      <td>1.000000</td>\n",
              "      <td>3.000000</td>\n",
              "      <td>1.000000</td>\n",
              "    </tr>\n",
              "    <tr>\n",
              "      <th>max</th>\n",
              "      <td>77.000000</td>\n",
              "      <td>1.000000</td>\n",
              "      <td>3.000000</td>\n",
              "      <td>200.000000</td>\n",
              "      <td>564.000000</td>\n",
              "      <td>1.000000</td>\n",
              "      <td>2.000000</td>\n",
              "      <td>202.000000</td>\n",
              "      <td>1.000000</td>\n",
              "      <td>6.200000</td>\n",
              "      <td>2.000000</td>\n",
              "      <td>4.000000</td>\n",
              "      <td>3.000000</td>\n",
              "      <td>1.000000</td>\n",
              "    </tr>\n",
              "  </tbody>\n",
              "</table>\n",
              "</div>"
            ],
            "text/plain": [
              "              age         sex          cp    trestbps        chol         fbs  \\\n",
              "count  303.000000  303.000000  303.000000  303.000000  303.000000  303.000000   \n",
              "mean    54.366337    0.683168    0.966997  131.623762  246.264026    0.148515   \n",
              "std      9.082101    0.466011    1.032052   17.538143   51.830751    0.356198   \n",
              "min     29.000000    0.000000    0.000000   94.000000  126.000000    0.000000   \n",
              "25%     47.500000    0.000000    0.000000  120.000000  211.000000    0.000000   \n",
              "50%     55.000000    1.000000    1.000000  130.000000  240.000000    0.000000   \n",
              "75%     61.000000    1.000000    2.000000  140.000000  274.500000    0.000000   \n",
              "max     77.000000    1.000000    3.000000  200.000000  564.000000    1.000000   \n",
              "\n",
              "          restecg     thalach       exang     oldpeak       slope          ca  \\\n",
              "count  303.000000  303.000000  303.000000  303.000000  303.000000  303.000000   \n",
              "mean     0.528053  149.646865    0.326733    1.039604    1.399340    0.729373   \n",
              "std      0.525860   22.905161    0.469794    1.161075    0.616226    1.022606   \n",
              "min      0.000000   71.000000    0.000000    0.000000    0.000000    0.000000   \n",
              "25%      0.000000  133.500000    0.000000    0.000000    1.000000    0.000000   \n",
              "50%      1.000000  153.000000    0.000000    0.800000    1.000000    0.000000   \n",
              "75%      1.000000  166.000000    1.000000    1.600000    2.000000    1.000000   \n",
              "max      2.000000  202.000000    1.000000    6.200000    2.000000    4.000000   \n",
              "\n",
              "             thal      target  \n",
              "count  303.000000  303.000000  \n",
              "mean     2.313531    0.544554  \n",
              "std      0.612277    0.498835  \n",
              "min      0.000000    0.000000  \n",
              "25%      2.000000    0.000000  \n",
              "50%      2.000000    1.000000  \n",
              "75%      3.000000    1.000000  \n",
              "max      3.000000    1.000000  "
            ]
          },
          "metadata": {
            "tags": []
          },
          "execution_count": 14
        }
      ]
    },
    {
      "cell_type": "code",
      "metadata": {
        "id": "nlMmK35gfYcd",
        "outputId": "cd643948-411b-4769-f645-069fa2795cec"
      },
      "source": [
        "data.isna().sum()#no missing value prasent in dataset "
      ],
      "execution_count": null,
      "outputs": [
        {
          "output_type": "execute_result",
          "data": {
            "text/plain": [
              "age         0\n",
              "sex         0\n",
              "cp          0\n",
              "trestbps    0\n",
              "chol        0\n",
              "fbs         0\n",
              "restecg     0\n",
              "thalach     0\n",
              "exang       0\n",
              "oldpeak     0\n",
              "slope       0\n",
              "ca          0\n",
              "thal        0\n",
              "target      0\n",
              "dtype: int64"
            ]
          },
          "metadata": {
            "tags": []
          },
          "execution_count": 15
        }
      ]
    },
    {
      "cell_type": "code",
      "metadata": {
        "scrolled": true,
        "id": "BTJJ5D2_fYcd",
        "outputId": "1a67b7ad-9d5d-42f5-c7d9-de4c4f5b38ae"
      },
      "source": [
        "# check the value count for output column \n",
        "data['target'].value_counts()\n",
        "# 165 count is for patience with heart problems , 138 count is for patience without heart problems\n"
      ],
      "execution_count": null,
      "outputs": [
        {
          "output_type": "execute_result",
          "data": {
            "text/plain": [
              "1    165\n",
              "0    138\n",
              "Name: target, dtype: int64"
            ]
          },
          "metadata": {
            "tags": []
          },
          "execution_count": 16
        }
      ]
    },
    {
      "cell_type": "code",
      "metadata": {
        "id": "Ea75KzoBfYcd",
        "outputId": "5d11b43a-cb81-44d8-bf66-6b94bcabdd6c"
      },
      "source": [
        "data['target'].unique()# its a 2 class problem "
      ],
      "execution_count": null,
      "outputs": [
        {
          "output_type": "execute_result",
          "data": {
            "text/plain": [
              "array([1, 0], dtype=int64)"
            ]
          },
          "metadata": {
            "tags": []
          },
          "execution_count": 17
        }
      ]
    },
    {
      "cell_type": "code",
      "metadata": {
        "id": "XnPEVw36fYce",
        "outputId": "56bd860a-d374-4d7a-993a-5373877f9cab"
      },
      "source": [
        "data.columns"
      ],
      "execution_count": null,
      "outputs": [
        {
          "output_type": "execute_result",
          "data": {
            "text/plain": [
              "Index(['age', 'sex', 'cp', 'trestbps', 'chol', 'fbs', 'restecg', 'thalach',\n",
              "       'exang', 'oldpeak', 'slope', 'ca', 'thal', 'target'],\n",
              "      dtype='object')"
            ]
          },
          "metadata": {
            "tags": []
          },
          "execution_count": 18
        }
      ]
    },
    {
      "cell_type": "code",
      "metadata": {
        "id": "1wmVqbc9fYce",
        "outputId": "ce9ddb3e-e3b9-47b1-d42f-4d6fe20149db"
      },
      "source": [
        "data['fbs'].value_counts()# 2 catagory , (\"0=258 , 1=45\")\n",
        "data['sex'].value_counts()# 2 catagory ,(\"0 = 207, 1=96\")\n",
        "data['cp'].value_counts()# 4 catagory\n",
        "data['restecg'].value_counts()# 3 catagory \n",
        "data['exang'].value_counts() # 2 catagory\n",
        "data['slope'].value_counts() # 3 catagory\n",
        "data['ca'].value_counts()\n",
        "data['thal'].value_counts()"
      ],
      "execution_count": null,
      "outputs": [
        {
          "output_type": "execute_result",
          "data": {
            "text/plain": [
              "2    166\n",
              "3    117\n",
              "1     18\n",
              "0      2\n",
              "Name: thal, dtype: int64"
            ]
          },
          "metadata": {
            "tags": []
          },
          "execution_count": 19
        }
      ]
    },
    {
      "cell_type": "markdown",
      "metadata": {
        "id": "NtZ7lNSRfYcf"
      },
      "source": [
        "# EDA"
      ]
    },
    {
      "cell_type": "code",
      "metadata": {
        "id": "qIrm5zLgfYcf"
      },
      "source": [
        "#countinous varibale \n",
        "#coun_col = ['age','trestbps','chol','thalach','oldpeak']"
      ],
      "execution_count": null,
      "outputs": []
    },
    {
      "cell_type": "code",
      "metadata": {
        "id": "i9C3GercfYcf",
        "outputId": "3ba951b3-3921-42be-b414-ee4a48c60cc8"
      },
      "source": [
        "#boxplot for age column\n",
        "sns.boxplot(data = data, x='age')"
      ],
      "execution_count": null,
      "outputs": [
        {
          "output_type": "execute_result",
          "data": {
            "text/plain": [
              "<AxesSubplot:xlabel='age'>"
            ]
          },
          "metadata": {
            "tags": []
          },
          "execution_count": 21
        },
        {
          "output_type": "display_data",
          "data": {
            "image/png": "[encoded data removed]",
            "text/plain": [
              "<Figure size 432x288 with 1 Axes>"
            ]
          },
          "metadata": {
            "tags": [],
            "needs_background": "light"
          }
        }
      ]
    },
    {
      "cell_type": "code",
      "metadata": {
        "id": "WOKVDbt9fYcg",
        "outputId": "8f581940-1880-4c80-afc6-6ad8cc49fec2"
      },
      "source": [
        "sns.boxplot(data = data, x='trestbps')"
      ],
      "execution_count": null,
      "outputs": [
        {
          "output_type": "execute_result",
          "data": {
            "text/plain": [
              "<AxesSubplot:xlabel='trestbps'>"
            ]
          },
          "metadata": {
            "tags": []
          },
          "execution_count": 22
        },
        {
          "output_type": "display_data",
          "data": {
            "image/png": "[encoded data removed]",
            "text/plain": [
              "<Figure size 432x288 with 1 Axes>"
            ]
          },
          "metadata": {
            "tags": [],
            "needs_background": "light"
          }
        }
      ]
    },
    {
      "cell_type": "code",
      "metadata": {
        "id": "TVjTXDBYfYcg",
        "outputId": "921b79fe-d019-49c2-9a77-a6f329d63940"
      },
      "source": [
        "# boxplot for chol column\n",
        "sns.boxplot(data = data, x='chol')"
      ],
      "execution_count": null,
      "outputs": [
        {
          "output_type": "execute_result",
          "data": {
            "text/plain": [
              "<AxesSubplot:xlabel='chol'>"
            ]
          },
          "metadata": {
            "tags": []
          },
          "execution_count": 23
        },
        {
          "output_type": "display_data",
          "data": {
            "image/png": "[encoded data removed]",
            "text/plain": [
              "<Figure size 432x288 with 1 Axes>"
            ]
          },
          "metadata": {
            "tags": [],
            "needs_background": "light"
          }
        }
      ]
    },
    {
      "cell_type": "code",
      "metadata": {
        "id": "o9XQRt5wfYch",
        "outputId": "8e553514-27ba-46c1-88ac-b7af2dc60a06"
      },
      "source": [
        "# boxplot for thalach column\n",
        "sns.boxplot(data = data, x='thalach')"
      ],
      "execution_count": null,
      "outputs": [
        {
          "output_type": "execute_result",
          "data": {
            "text/plain": [
              "<AxesSubplot:xlabel='thalach'>"
            ]
          },
          "metadata": {
            "tags": []
          },
          "execution_count": 24
        },
        {
          "output_type": "display_data",
          "data": {
            "image/png": "[encoded data removed]",
            "text/plain": [
              "<Figure size 432x288 with 1 Axes>"
            ]
          },
          "metadata": {
            "tags": [],
            "needs_background": "light"
          }
        }
      ]
    },
    {
      "cell_type": "code",
      "metadata": {
        "id": "667hAiqifYch",
        "outputId": "893b54be-5621-4be6-c2a8-9da3cf08cb90"
      },
      "source": [
        "# boxplot for oldpeak column\n",
        "sns.boxplot(data = data, x='oldpeak')"
      ],
      "execution_count": null,
      "outputs": [
        {
          "output_type": "execute_result",
          "data": {
            "text/plain": [
              "<AxesSubplot:xlabel='oldpeak'>"
            ]
          },
          "metadata": {
            "tags": []
          },
          "execution_count": 25
        },
        {
          "output_type": "display_data",
          "data": {
            "image/png": "[encoded data removed]",
            "text/plain": [
              "<Figure size 432x288 with 1 Axes>"
            ]
          },
          "metadata": {
            "tags": [],
            "needs_background": "light"
          }
        }
      ]
    },
    {
      "cell_type": "markdown",
      "metadata": {
        "id": "5sxZ3R0WfYch"
      },
      "source": [
        "# analyse 'sex', 'cp', 'fbs', 'restecg', 'exang', 'slope', 'ca' and 'thal' features"
      ]
    },
    {
      "cell_type": "code",
      "metadata": {
        "id": "UK5TnUgkfYch",
        "outputId": "ba218ae2-305b-424a-a824-50e06d265eb6"
      },
      "source": [
        "## First, analysing the target variable\n",
        "y = data[\"target\"]\n",
        "\n",
        "sns.countplot(y)"
      ],
      "execution_count": null,
      "outputs": [
        {
          "output_type": "stream",
          "text": [
            "C:\\Users\\ADARSH\\anaconda3\\envs\\tensorflow\\lib\\site-packages\\seaborn\\_decorators.py:36: FutureWarning: Pass the following variable as a keyword arg: x. From version 0.12, the only valid positional argument will be `data`, and passing other arguments without an explicit keyword will result in an error or misinterpretation.\n",
            "  warnings.warn(\n"
          ],
          "name": "stderr"
        },
        {
          "output_type": "execute_result",
          "data": {
            "text/plain": [
              "<AxesSubplot:xlabel='target', ylabel='count'>"
            ]
          },
          "metadata": {
            "tags": []
          },
          "execution_count": 26
        },
        {
          "output_type": "display_data",
          "data": {
            "image/png": "[encoded data removed]",
            "text/plain": [
              "<Figure size 432x288 with 1 Axes>"
            ]
          },
          "metadata": {
            "tags": [],
            "needs_background": "light"
          }
        }
      ]
    },
    {
      "cell_type": "code",
      "metadata": {
        "id": "eWNTPzaGfYci",
        "outputId": "e0adf99b-e063-47da-cfe8-0d91a16cdd98"
      },
      "source": [
        "#Analysing the 'Sex' feature \n",
        "#\"1: male, 0: female\"\n",
        "sns.barplot(data[\"sex\"],y)\n",
        "# females are more likely to have heart problems than males "
      ],
      "execution_count": null,
      "outputs": [
        {
          "output_type": "stream",
          "text": [
            "C:\\Users\\ADARSH\\anaconda3\\envs\\tensorflow\\lib\\site-packages\\seaborn\\_decorators.py:36: FutureWarning: Pass the following variables as keyword args: x, y. From version 0.12, the only valid positional argument will be `data`, and passing other arguments without an explicit keyword will result in an error or misinterpretation.\n",
            "  warnings.warn(\n"
          ],
          "name": "stderr"
        },
        {
          "output_type": "execute_result",
          "data": {
            "text/plain": [
              "<AxesSubplot:xlabel='sex', ylabel='target'>"
            ]
          },
          "metadata": {
            "tags": []
          },
          "execution_count": 27
        },
        {
          "output_type": "display_data",
          "data": {
            "image/png": "[encoded data removed]",
            "text/plain": [
              "<Figure size 432x288 with 1 Axes>"
            ]
          },
          "metadata": {
            "tags": [],
            "needs_background": "light"
          }
        }
      ]
    },
    {
      "cell_type": "code",
      "metadata": {
        "id": "ENbW2RHifYcj",
        "outputId": "12772c36-19f8-42af-8e73-d9fe5eb40dfa"
      },
      "source": [
        "#Analysing the 'Chest Pain Type' feature\n",
        "data[\"cp\"].unique()\n",
        "#\"chest pain type, 0: typical angina, 1: a typical anginal, 2: non-anginal pain, 3: asymptomatic\""
      ],
      "execution_count": null,
      "outputs": [
        {
          "output_type": "execute_result",
          "data": {
            "text/plain": [
              "array([3, 2, 1, 0], dtype=int64)"
            ]
          },
          "metadata": {
            "tags": []
          },
          "execution_count": 28
        }
      ]
    },
    {
      "cell_type": "code",
      "metadata": {
        "id": "K3W6PVxdfYcj",
        "outputId": "bd170d81-a920-4398-a745-a79ee8c37b37"
      },
      "source": [
        "sns.barplot(data[\"cp\"],y)\n",
        "#chest pain of '0', i.e. the ones with typical angina are much less likely to have heart problems"
      ],
      "execution_count": null,
      "outputs": [
        {
          "output_type": "stream",
          "text": [
            "C:\\Users\\ADARSH\\anaconda3\\envs\\tensorflow\\lib\\site-packages\\seaborn\\_decorators.py:36: FutureWarning: Pass the following variables as keyword args: x, y. From version 0.12, the only valid positional argument will be `data`, and passing other arguments without an explicit keyword will result in an error or misinterpretation.\n",
            "  warnings.warn(\n"
          ],
          "name": "stderr"
        },
        {
          "output_type": "execute_result",
          "data": {
            "text/plain": [
              "<AxesSubplot:xlabel='cp', ylabel='target'>"
            ]
          },
          "metadata": {
            "tags": []
          },
          "execution_count": 29
        },
        {
          "output_type": "display_data",
          "data": {
            "image/png": "[encoded data removed]",
            "text/plain": [
              "<Figure size 432x288 with 1 Axes>"
            ]
          },
          "metadata": {
            "tags": [],
            "needs_background": "light"
          }
        }
      ]
    },
    {
      "cell_type": "code",
      "metadata": {
        "id": "xurVn7t8fYcj",
        "outputId": "7249d4dc-8c4a-4205-ce57-2466cac4757e"
      },
      "source": [
        "#Analysing the FBS feature (fasting blood sugar)\n",
        "data[\"fbs\"].unique()"
      ],
      "execution_count": null,
      "outputs": [
        {
          "output_type": "execute_result",
          "data": {
            "text/plain": [
              "array([1, 0], dtype=int64)"
            ]
          },
          "metadata": {
            "tags": []
          },
          "execution_count": 30
        }
      ]
    },
    {
      "cell_type": "code",
      "metadata": {
        "id": "5Z3xXuonfYck",
        "outputId": "d3b7548d-fea0-4e3b-8b6d-87cdbe8cbbb0"
      },
      "source": [
        "sns.barplot(data[\"fbs\"],y)"
      ],
      "execution_count": null,
      "outputs": [
        {
          "output_type": "stream",
          "text": [
            "C:\\Users\\ADARSH\\anaconda3\\envs\\tensorflow\\lib\\site-packages\\seaborn\\_decorators.py:36: FutureWarning: Pass the following variables as keyword args: x, y. From version 0.12, the only valid positional argument will be `data`, and passing other arguments without an explicit keyword will result in an error or misinterpretation.\n",
            "  warnings.warn(\n"
          ],
          "name": "stderr"
        },
        {
          "output_type": "execute_result",
          "data": {
            "text/plain": [
              "<AxesSubplot:xlabel='fbs', ylabel='target'>"
            ]
          },
          "metadata": {
            "tags": []
          },
          "execution_count": 31
        },
        {
          "output_type": "display_data",
          "data": {
            "image/png": "[encoded data removed]",
            "text/plain": [
              "<Figure size 432x288 with 1 Axes>"
            ]
          },
          "metadata": {
            "tags": [],
            "needs_background": "light"
          }
        }
      ]
    },
    {
      "cell_type": "code",
      "metadata": {
        "id": "HTvFcfgTfYck",
        "outputId": "ceacfb6f-c1e5-4d27-ff7e-f889d85e6081"
      },
      "source": [
        "#Analysing the restecg feature (resting electrocardiographic results)\n",
        "data[\"restecg\"].unique()"
      ],
      "execution_count": null,
      "outputs": [
        {
          "output_type": "execute_result",
          "data": {
            "text/plain": [
              "array([0, 1, 2], dtype=int64)"
            ]
          },
          "metadata": {
            "tags": []
          },
          "execution_count": 32
        }
      ]
    },
    {
      "cell_type": "code",
      "metadata": {
        "id": "97ySPPVwfYck",
        "outputId": "fb19391b-7daf-4271-a18c-17c07d510d53"
      },
      "source": [
        "sns.barplot(data[\"restecg\"],y)\n",
        "#people with restecg '1' and '0' are much more likely to have a heart disease than with restecg '2'"
      ],
      "execution_count": null,
      "outputs": [
        {
          "output_type": "stream",
          "text": [
            "C:\\Users\\ADARSH\\anaconda3\\envs\\tensorflow\\lib\\site-packages\\seaborn\\_decorators.py:36: FutureWarning: Pass the following variables as keyword args: x, y. From version 0.12, the only valid positional argument will be `data`, and passing other arguments without an explicit keyword will result in an error or misinterpretation.\n",
            "  warnings.warn(\n"
          ],
          "name": "stderr"
        },
        {
          "output_type": "execute_result",
          "data": {
            "text/plain": [
              "<AxesSubplot:xlabel='restecg', ylabel='target'>"
            ]
          },
          "metadata": {
            "tags": []
          },
          "execution_count": 33
        },
        {
          "output_type": "display_data",
          "data": {
            "image/png": "[encoded data removed]",
            "text/plain": [
              "<Figure size 432x288 with 1 Axes>"
            ]
          },
          "metadata": {
            "tags": [],
            "needs_background": "light"
          }
        }
      ]
    },
    {
      "cell_type": "code",
      "metadata": {
        "id": "ZiwWiLulfYck",
        "outputId": "3439a4c1-f6f8-4e82-edf5-fcf2c1d39484"
      },
      "source": [
        "#Analysing the 'exang' feature\n",
        "data[\"exang\"].unique()"
      ],
      "execution_count": null,
      "outputs": [
        {
          "output_type": "execute_result",
          "data": {
            "text/plain": [
              "array([0, 1], dtype=int64)"
            ]
          },
          "metadata": {
            "tags": []
          },
          "execution_count": 34
        }
      ]
    },
    {
      "cell_type": "code",
      "metadata": {
        "id": "88X6vGLTfYcl",
        "outputId": "331caf8a-b24c-4d06-8233-4ef1b8a758ad"
      },
      "source": [
        "sns.barplot(data[\"exang\"],y)\n",
        "#People with exang=1  Those are less likely to have heart problems"
      ],
      "execution_count": null,
      "outputs": [
        {
          "output_type": "stream",
          "text": [
            "C:\\Users\\ADARSH\\anaconda3\\envs\\tensorflow\\lib\\site-packages\\seaborn\\_decorators.py:36: FutureWarning: Pass the following variables as keyword args: x, y. From version 0.12, the only valid positional argument will be `data`, and passing other arguments without an explicit keyword will result in an error or misinterpretation.\n",
            "  warnings.warn(\n"
          ],
          "name": "stderr"
        },
        {
          "output_type": "execute_result",
          "data": {
            "text/plain": [
              "<AxesSubplot:xlabel='exang', ylabel='target'>"
            ]
          },
          "metadata": {
            "tags": []
          },
          "execution_count": 35
        },
        {
          "output_type": "display_data",
          "data": {
            "image/png": "[encoded data removed]",
            "text/plain": [
              "<Figure size 432x288 with 1 Axes>"
            ]
          },
          "metadata": {
            "tags": [],
            "needs_background": "light"
          }
        }
      ]
    },
    {
      "cell_type": "code",
      "metadata": {
        "id": "tHbMPk33fYcl",
        "outputId": "017f20f2-a8f5-4458-9e4e-8f9f81d02e1e"
      },
      "source": [
        "#Analysing the Slope feature\n",
        "data[\"slope\"].unique()"
      ],
      "execution_count": null,
      "outputs": [
        {
          "output_type": "execute_result",
          "data": {
            "text/plain": [
              "array([0, 2, 1], dtype=int64)"
            ]
          },
          "metadata": {
            "tags": []
          },
          "execution_count": 36
        }
      ]
    },
    {
      "cell_type": "code",
      "metadata": {
        "id": "j4WT5xpufYcl",
        "outputId": "1789c215-6dd1-49f2-e40a-ecb76797fe08"
      },
      "source": [
        "sns.barplot(data[\"slope\"],y)\n",
        "#Slope '2' causes heart pain much more than Slope '0' and '1'"
      ],
      "execution_count": null,
      "outputs": [
        {
          "output_type": "stream",
          "text": [
            "C:\\Users\\ADARSH\\anaconda3\\envs\\tensorflow\\lib\\site-packages\\seaborn\\_decorators.py:36: FutureWarning: Pass the following variables as keyword args: x, y. From version 0.12, the only valid positional argument will be `data`, and passing other arguments without an explicit keyword will result in an error or misinterpretation.\n",
            "  warnings.warn(\n"
          ],
          "name": "stderr"
        },
        {
          "output_type": "execute_result",
          "data": {
            "text/plain": [
              "<AxesSubplot:xlabel='slope', ylabel='target'>"
            ]
          },
          "metadata": {
            "tags": []
          },
          "execution_count": 37
        },
        {
          "output_type": "display_data",
          "data": {
            "image/png": "[encoded data removed]",
            "text/plain": [
              "<Figure size 432x288 with 1 Axes>"
            ]
          },
          "metadata": {
            "tags": [],
            "needs_background": "light"
          }
        }
      ]
    },
    {
      "cell_type": "code",
      "metadata": {
        "id": "GbD6zkohfYcl",
        "outputId": "92bc0197-b790-41d0-8084-3b293ea04699"
      },
      "source": [
        "#Analysing the 'ca' feature\n",
        "data[\"ca\"].unique()\n",
        "sns.countplot(data[\"ca\"])"
      ],
      "execution_count": null,
      "outputs": [
        {
          "output_type": "stream",
          "text": [
            "C:\\Users\\ADARSH\\anaconda3\\envs\\tensorflow\\lib\\site-packages\\seaborn\\_decorators.py:36: FutureWarning: Pass the following variable as a keyword arg: x. From version 0.12, the only valid positional argument will be `data`, and passing other arguments without an explicit keyword will result in an error or misinterpretation.\n",
            "  warnings.warn(\n"
          ],
          "name": "stderr"
        },
        {
          "output_type": "execute_result",
          "data": {
            "text/plain": [
              "<AxesSubplot:xlabel='ca', ylabel='count'>"
            ]
          },
          "metadata": {
            "tags": []
          },
          "execution_count": 38
        },
        {
          "output_type": "display_data",
          "data": {
            "image/png": "[encoded data removed]",
            "text/plain": [
              "<Figure size 432x288 with 1 Axes>"
            ]
          },
          "metadata": {
            "tags": [],
            "needs_background": "light"
          }
        }
      ]
    },
    {
      "cell_type": "code",
      "metadata": {
        "id": "uVi1HQGHfYcl",
        "outputId": "f04ccb65-e742-4d4e-f168-180e0c207dd2"
      },
      "source": [
        "sns.barplot(data[\"ca\"],y)\n",
        "#ca=4 has large number of heart patients"
      ],
      "execution_count": null,
      "outputs": [
        {
          "output_type": "stream",
          "text": [
            "C:\\Users\\ADARSH\\anaconda3\\envs\\tensorflow\\lib\\site-packages\\seaborn\\_decorators.py:36: FutureWarning: Pass the following variables as keyword args: x, y. From version 0.12, the only valid positional argument will be `data`, and passing other arguments without an explicit keyword will result in an error or misinterpretation.\n",
            "  warnings.warn(\n"
          ],
          "name": "stderr"
        },
        {
          "output_type": "execute_result",
          "data": {
            "text/plain": [
              "<AxesSubplot:xlabel='ca', ylabel='target'>"
            ]
          },
          "metadata": {
            "tags": []
          },
          "execution_count": 39
        },
        {
          "output_type": "display_data",
          "data": {
            "image/png": "[encoded data removed]",
            "text/plain": [
              "<Figure size 432x288 with 1 Axes>"
            ]
          },
          "metadata": {
            "tags": [],
            "needs_background": "light"
          }
        }
      ]
    },
    {
      "cell_type": "code",
      "metadata": {
        "id": "X57NXlNIfYcm",
        "outputId": "f4af2e09-35ca-4a68-b571-96058a101173"
      },
      "source": [
        "#Analysing the 'thal' feature\n",
        "data[\"thal\"].unique()"
      ],
      "execution_count": null,
      "outputs": [
        {
          "output_type": "execute_result",
          "data": {
            "text/plain": [
              "array([1, 2, 3, 0], dtype=int64)"
            ]
          },
          "metadata": {
            "tags": []
          },
          "execution_count": 40
        }
      ]
    },
    {
      "cell_type": "code",
      "metadata": {
        "id": "f4BxonsefYcm",
        "outputId": "2ca7ecdd-7d8e-456c-adfb-0c4c8abb312d"
      },
      "source": [
        "sns.barplot(data[\"thal\"],y)"
      ],
      "execution_count": null,
      "outputs": [
        {
          "output_type": "stream",
          "text": [
            "C:\\Users\\ADARSH\\anaconda3\\envs\\tensorflow\\lib\\site-packages\\seaborn\\_decorators.py:36: FutureWarning: Pass the following variables as keyword args: x, y. From version 0.12, the only valid positional argument will be `data`, and passing other arguments without an explicit keyword will result in an error or misinterpretation.\n",
            "  warnings.warn(\n"
          ],
          "name": "stderr"
        },
        {
          "output_type": "execute_result",
          "data": {
            "text/plain": [
              "<AxesSubplot:xlabel='thal', ylabel='target'>"
            ]
          },
          "metadata": {
            "tags": []
          },
          "execution_count": 41
        },
        {
          "output_type": "display_data",
          "data": {
            "image/png": "[encoded data removed]",
            "text/plain": [
              "<Figure size 432x288 with 1 Axes>"
            ]
          },
          "metadata": {
            "tags": [],
            "needs_background": "light"
          }
        }
      ]
    },
    {
      "cell_type": "code",
      "metadata": {
        "id": "nC3hAKCOfYcm"
      },
      "source": [
        "#cat_col = ['sex', 'cp', 'fbs', 'restecg', 'exang', 'slope', 'ca', 'thal']"
      ],
      "execution_count": null,
      "outputs": []
    },
    {
      "cell_type": "code",
      "metadata": {
        "id": "ShEfnvgGfYcm",
        "outputId": "2bd0b16d-1523-43ad-b039-e814d795e2c4"
      },
      "source": [
        "# check the corration between input variable and out put variable \n",
        "print(data.corr()[\"target\"].abs().sort_values())\n",
        "# seems like column \"fbs has less correlation compare with output column\"and the rest of the columns are correlated with output column.\n"
      ],
      "execution_count": null,
      "outputs": [
        {
          "output_type": "stream",
          "text": [
            "fbs         0.028046\n",
            "chol        0.085239\n",
            "restecg     0.137230\n",
            "trestbps    0.144931\n",
            "age         0.225439\n",
            "sex         0.280937\n",
            "thal        0.344029\n",
            "slope       0.345877\n",
            "ca          0.391724\n",
            "thalach     0.421741\n",
            "oldpeak     0.430696\n",
            "cp          0.433798\n",
            "exang       0.436757\n",
            "target      1.000000\n",
            "Name: target, dtype: float64\n"
          ],
          "name": "stdout"
        }
      ]
    },
    {
      "cell_type": "markdown",
      "metadata": {
        "id": "ugbxS7OKfYcm"
      },
      "source": [
        "# Train Trest split "
      ]
    },
    {
      "cell_type": "code",
      "metadata": {
        "id": "xKGlh5TwfYcm"
      },
      "source": [
        "# spilt the data in to train and test \n",
        "from sklearn.model_selection import train_test_split\n",
        "import random\n",
        "random.seed()\n",
        "\n",
        "predictors = data.drop(\"target\",axis=1)\n",
        "target = data[\"target\"]\n"
      ],
      "execution_count": null,
      "outputs": []
    },
    {
      "cell_type": "code",
      "metadata": {
        "id": "D1RnEQ_FfYcn"
      },
      "source": [
        "X_train,X_test,Y_train,Y_test = train_test_split(predictors,target,test_size=0.20,random_state=0)\n"
      ],
      "execution_count": null,
      "outputs": []
    },
    {
      "cell_type": "markdown",
      "metadata": {
        "id": "Lyp0hz9yfYcn"
      },
      "source": [
        "# Model Building "
      ]
    },
    {
      "cell_type": "code",
      "metadata": {
        "id": "FM9UDpQtfYcn"
      },
      "source": [
        "# required library to run algorithem \n",
        "from sklearn.tree import DecisionTreeClassifier\n",
        "from sklearn.ensemble import RandomForestClassifier,AdaBoostClassifier,GradientBoostingClassifier,ExtraTreesClassifier\n",
        "from sklearn.naive_bayes import GaussianNB,MultinomialNB\n",
        "from sklearn.neighbors import KNeighborsClassifier\n",
        "from sklearn.linear_model import LogisticRegression\n",
        "from xgboost import XGBClassifier\n",
        "from sklearn.model_selection import GridSearchCV,RandomizedSearchCV\n",
        "from sklearn.metrics import classification_report, accuracy_score,multilabel_confusion_matrix, confusion_matrix\n"
      ],
      "execution_count": null,
      "outputs": []
    },
    {
      "cell_type": "code",
      "metadata": {
        "id": "kHqIGDEZfYcn"
      },
      "source": [
        "#from lazypredict.Supervised import LazyClassifier\n",
        "#lazy_clf = LazyClassifier(verbose=0,ignore_warnings=True, custom_metric=None)\n",
        "#models,predictions = lazy_clf.fit(X_train, X_test, Y_train, Y_test)\n",
        "#models"
      ],
      "execution_count": null,
      "outputs": []
    },
    {
      "cell_type": "markdown",
      "metadata": {
        "id": "8N3hMCnZfYcn"
      },
      "source": [
        "#  KNN"
      ]
    },
    {
      "cell_type": "code",
      "metadata": {
        "id": "vS6XkdSIfYcn"
      },
      "source": [
        "#from sklearn.neighbors import KNeighborsClassifier\n",
        "knn = KNeighborsClassifier(n_neighbors=7)\n",
        "knn.fit(X_train,Y_train)\n",
        "Y_pred_knn=knn.predict(X_test)"
      ],
      "execution_count": null,
      "outputs": []
    },
    {
      "cell_type": "code",
      "metadata": {
        "id": "KKJsgImmfYcn",
        "outputId": "04db145c-1b64-4196-8977-172c09ef9e18"
      },
      "source": [
        "score_knn = round(accuracy_score(Y_pred_knn,Y_test)*100,2)\n",
        "\n",
        "print(\"The accuracy score achieved using KNN is: \"+str(score_knn)+\" %\")"
      ],
      "execution_count": null,
      "outputs": [
        {
          "output_type": "stream",
          "text": [
            "The accuracy score achieved using KNN is: 67.21 %\n"
          ],
          "name": "stdout"
        }
      ]
    },
    {
      "cell_type": "code",
      "metadata": {
        "id": "iC8Tts_DfYco",
        "outputId": "7e3778fa-2204-4ed8-a86a-b9efda2b8e95"
      },
      "source": [
        "confusion_matrix(Y_test,Y_pred_knn)"
      ],
      "execution_count": null,
      "outputs": [
        {
          "output_type": "execute_result",
          "data": {
            "text/plain": [
              "array([[18,  9],\n",
              "       [11, 23]], dtype=int64)"
            ]
          },
          "metadata": {
            "tags": []
          },
          "execution_count": 50
        }
      ]
    },
    {
      "cell_type": "code",
      "metadata": {
        "id": "WfF4dwe7fYco",
        "outputId": "2dc48a36-9452-4a5c-976e-9fed87c78f99"
      },
      "source": [
        "cr_knn = classification_report(Y_test,Y_pred_knn)\n",
        "accuracy_knn = accuracy_score(Y_test,Y_pred_knn)\n",
        "accuracy_knn"
      ],
      "execution_count": null,
      "outputs": [
        {
          "output_type": "execute_result",
          "data": {
            "text/plain": [
              "0.6721311475409836"
            ]
          },
          "metadata": {
            "tags": []
          },
          "execution_count": 51
        }
      ]
    },
    {
      "cell_type": "code",
      "metadata": {
        "id": "iyExwPT5fYco",
        "outputId": "480d74bd-83c4-4dad-a979-e8c74d28d703"
      },
      "source": [
        "Y_train.value_counts()"
      ],
      "execution_count": null,
      "outputs": [
        {
          "output_type": "execute_result",
          "data": {
            "text/plain": [
              "1    131\n",
              "0    111\n",
              "Name: target, dtype: int64"
            ]
          },
          "metadata": {
            "tags": []
          },
          "execution_count": 52
        }
      ]
    },
    {
      "cell_type": "code",
      "metadata": {
        "id": "rj3kSOvYfYco"
      },
      "source": [
        "# to blance a data oversampling\n",
        "from imblearn.over_sampling import RandomOverSampler\n",
        "from collections import Counter"
      ],
      "execution_count": null,
      "outputs": []
    },
    {
      "cell_type": "code",
      "metadata": {
        "id": "N0hVJUvSfYcp",
        "outputId": "bda2acf8-98f2-47a9-838f-736f9ae358cc"
      },
      "source": [
        "#oversampling \n",
        "os=RandomOverSampler()\n",
        "X_train_ns,Y_train_ns=os.fit_resample(X_train,Y_train)\n",
        "print(\"The number of classes before over samplting:\",Counter(Y_train))\n",
        "print(\"The number of classes after over sampling:\",Counter(Y_train_ns))"
      ],
      "execution_count": null,
      "outputs": [
        {
          "output_type": "stream",
          "text": [
            "The number of classes before over samplting: Counter({1: 131, 0: 111})\n",
            "The number of classes after over sampling: Counter({1: 131, 0: 131})\n"
          ],
          "name": "stdout"
        }
      ]
    },
    {
      "cell_type": "code",
      "metadata": {
        "id": "CrxQDCmffYcp"
      },
      "source": [
        "# after oversampling \n",
        "knn.fit(X_train_ns,Y_train_ns)\n",
        "Y_pred_knn_1 = knn.predict(X_test)"
      ],
      "execution_count": null,
      "outputs": []
    },
    {
      "cell_type": "code",
      "metadata": {
        "id": "lqxQrfBlfYcp",
        "outputId": "5908bf5c-6c6f-4844-e47e-24c75ddfc313"
      },
      "source": [
        "score_knn = round(accuracy_score(Y_pred_knn_1,Y_test)*100,2)\n",
        "\n",
        "print(\"The accuracy score achieved using knn is: \"+str(score_knn)+\" %\")"
      ],
      "execution_count": null,
      "outputs": [
        {
          "output_type": "stream",
          "text": [
            "The accuracy score achieved using knn is: 65.57 %\n"
          ],
          "name": "stdout"
        }
      ]
    },
    {
      "cell_type": "code",
      "metadata": {
        "id": "cPXh2wvgfYcp",
        "outputId": "94f4d1c4-3c7b-44a3-82a6-1600e4cf3dbc"
      },
      "source": [
        "confusion_matrix(Y_test,Y_pred_knn_1)"
      ],
      "execution_count": null,
      "outputs": [
        {
          "output_type": "execute_result",
          "data": {
            "text/plain": [
              "array([[18,  9],\n",
              "       [12, 22]], dtype=int64)"
            ]
          },
          "metadata": {
            "tags": []
          },
          "execution_count": 57
        }
      ]
    },
    {
      "cell_type": "markdown",
      "metadata": {
        "id": "zNhEJHFOfYcp"
      },
      "source": [
        "# NB"
      ]
    },
    {
      "cell_type": "code",
      "metadata": {
        "id": "-OhfetvmfYcq"
      },
      "source": [
        "from sklearn.naive_bayes import GaussianNB\n",
        "\n",
        "nb = GaussianNB()\n",
        "\n",
        "nb.fit(X_train,Y_train)\n",
        "\n",
        "Y_pred_nb = nb.predict(X_test)"
      ],
      "execution_count": null,
      "outputs": []
    },
    {
      "cell_type": "code",
      "metadata": {
        "id": "iTbl3vH3fYcq",
        "outputId": "df43a0b3-4c1d-4032-c881-bad5fbf2b21f"
      },
      "source": [
        "score_nb = round(accuracy_score(Y_pred_nb,Y_test)*100,2)\n",
        "\n",
        "print(\"The accuracy score achieved using Naive Bayes is: \"+str(score_nb)+\" %\")"
      ],
      "execution_count": null,
      "outputs": [
        {
          "output_type": "stream",
          "text": [
            "The accuracy score achieved using Naive Bayes is: 85.25 %\n"
          ],
          "name": "stdout"
        }
      ]
    },
    {
      "cell_type": "code",
      "metadata": {
        "id": "BnUV2yaEfYcq",
        "outputId": "87f693ed-9cc0-41d2-f170-6bd27f0939b1"
      },
      "source": [
        "confusion_matrix(Y_test,Y_pred_nb)"
      ],
      "execution_count": null,
      "outputs": [
        {
          "output_type": "execute_result",
          "data": {
            "text/plain": [
              "array([[21,  6],\n",
              "       [ 3, 31]], dtype=int64)"
            ]
          },
          "metadata": {
            "tags": []
          },
          "execution_count": 60
        }
      ]
    },
    {
      "cell_type": "code",
      "metadata": {
        "id": "pTs_PT9CfYcq",
        "outputId": "49e87d74-6587-45f7-82aa-dcfb13749377"
      },
      "source": [
        "\n",
        "accuracy_nb = accuracy_score(Y_test,Y_pred_nb)\n",
        "accuracy_nb"
      ],
      "execution_count": null,
      "outputs": [
        {
          "output_type": "execute_result",
          "data": {
            "text/plain": [
              "0.8524590163934426"
            ]
          },
          "metadata": {
            "tags": []
          },
          "execution_count": 61
        }
      ]
    },
    {
      "cell_type": "code",
      "metadata": {
        "id": "qR_hLDNYfYcq"
      },
      "source": [
        "# after oversampling \n",
        "nb.fit(X_train_ns,Y_train_ns)\n",
        "Y_pred_nb_1 = nb.predict(X_test)"
      ],
      "execution_count": null,
      "outputs": []
    },
    {
      "cell_type": "code",
      "metadata": {
        "id": "4ObE3uw7fYcq",
        "outputId": "e3cf80e8-b7a9-4775-da09-883955ea3c67"
      },
      "source": [
        "score_nb_1 = round(accuracy_score(Y_pred_nb_1,Y_test)*100,2)\n",
        "\n",
        "print(\"The accuracy score achieved using Naive Bayes is: \"+str(score_nb_1)+\" %\")"
      ],
      "execution_count": null,
      "outputs": [
        {
          "output_type": "stream",
          "text": [
            "The accuracy score achieved using Naive Bayes is: 85.25 %\n"
          ],
          "name": "stdout"
        }
      ]
    },
    {
      "cell_type": "code",
      "metadata": {
        "id": "vTyRHrA2fYcr",
        "outputId": "42588916-09be-4125-f5d2-b94536dbb238"
      },
      "source": [
        "confusion_matrix(Y_test,Y_pred_nb_1)"
      ],
      "execution_count": null,
      "outputs": [
        {
          "output_type": "execute_result",
          "data": {
            "text/plain": [
              "array([[21,  6],\n",
              "       [ 3, 31]], dtype=int64)"
            ]
          },
          "metadata": {
            "tags": []
          },
          "execution_count": 64
        }
      ]
    },
    {
      "cell_type": "markdown",
      "metadata": {
        "id": "eLxnV117fYcr"
      },
      "source": [
        "# Logistic Regression"
      ]
    },
    {
      "cell_type": "code",
      "metadata": {
        "id": "hCRtPe58fYcr",
        "outputId": "c73b4de2-2719-4a74-8f8d-222e3108ffe3"
      },
      "source": [
        "lr = LogisticRegression()\n",
        "lr.fit(X_train, Y_train)\n",
        "Y_pred_lr = lr.predict(X_test)\n"
      ],
      "execution_count": null,
      "outputs": [
        {
          "output_type": "stream",
          "text": [
            "C:\\Users\\ADARSH\\anaconda3\\envs\\tensorflow\\lib\\site-packages\\sklearn\\linear_model\\_logistic.py:763: ConvergenceWarning: lbfgs failed to converge (status=1):\n",
            "STOP: TOTAL NO. of ITERATIONS REACHED LIMIT.\n",
            "\n",
            "Increase the number of iterations (max_iter) or scale the data as shown in:\n",
            "    https://scikit-learn.org/stable/modules/preprocessing.html\n",
            "Please also refer to the documentation for alternative solver options:\n",
            "    https://scikit-learn.org/stable/modules/linear_model.html#logistic-regression\n",
            "  n_iter_i = _check_optimize_result(\n"
          ],
          "name": "stderr"
        }
      ]
    },
    {
      "cell_type": "code",
      "metadata": {
        "id": "geEfbpnSfYcr",
        "outputId": "d2905018-1a76-4bfd-a29f-42a9ad10cb03"
      },
      "source": [
        "score_lr = round(accuracy_score(Y_pred_lr,Y_test)*100,2)\n",
        "\n",
        "print(\"The accuracy score achieved using LogisticRegression is: \"+str(score_lr)+\" %\")"
      ],
      "execution_count": null,
      "outputs": [
        {
          "output_type": "stream",
          "text": [
            "The accuracy score achieved using LogisticRegression is: 85.25 %\n"
          ],
          "name": "stdout"
        }
      ]
    },
    {
      "cell_type": "code",
      "metadata": {
        "id": "zXp9DFVbfYcr",
        "outputId": "001b1bb2-a6e1-4ade-ee64-1fe57a041220"
      },
      "source": [
        "confusion_matrix(Y_test,Y_pred_lr)"
      ],
      "execution_count": null,
      "outputs": [
        {
          "output_type": "execute_result",
          "data": {
            "text/plain": [
              "array([[22,  5],\n",
              "       [ 4, 30]], dtype=int64)"
            ]
          },
          "metadata": {
            "tags": []
          },
          "execution_count": 67
        }
      ]
    },
    {
      "cell_type": "code",
      "metadata": {
        "id": "4OzmU1gifYcr",
        "outputId": "10203607-5809-4e0d-ba73-df567e78d74f"
      },
      "source": [
        "accuracy_lr = accuracy_score(Y_test,Y_pred_lr)\n",
        "accuracy_lr"
      ],
      "execution_count": null,
      "outputs": [
        {
          "output_type": "execute_result",
          "data": {
            "text/plain": [
              "0.8524590163934426"
            ]
          },
          "metadata": {
            "tags": []
          },
          "execution_count": 68
        }
      ]
    },
    {
      "cell_type": "code",
      "metadata": {
        "id": "QBVSB5YpfYcs",
        "outputId": "5e161661-2a5b-48f2-9b84-0602f15d90b6"
      },
      "source": [
        "# after oversampling \n",
        "lr.fit(X_train_ns,Y_train_ns)\n",
        "Y_pred_lr_1 = nb.predict(X_test)"
      ],
      "execution_count": null,
      "outputs": [
        {
          "output_type": "stream",
          "text": [
            "C:\\Users\\ADARSH\\anaconda3\\envs\\tensorflow\\lib\\site-packages\\sklearn\\linear_model\\_logistic.py:763: ConvergenceWarning: lbfgs failed to converge (status=1):\n",
            "STOP: TOTAL NO. of ITERATIONS REACHED LIMIT.\n",
            "\n",
            "Increase the number of iterations (max_iter) or scale the data as shown in:\n",
            "    https://scikit-learn.org/stable/modules/preprocessing.html\n",
            "Please also refer to the documentation for alternative solver options:\n",
            "    https://scikit-learn.org/stable/modules/linear_model.html#logistic-regression\n",
            "  n_iter_i = _check_optimize_result(\n"
          ],
          "name": "stderr"
        }
      ]
    },
    {
      "cell_type": "code",
      "metadata": {
        "id": "xsPVsonFfYcs",
        "outputId": "1a44bb31-70e9-44c6-e53f-ebbf41015001"
      },
      "source": [
        "score_lr = round(accuracy_score(Y_pred_lr_1,Y_test)*100,2)\n",
        "\n",
        "print(\"The accuracy score achieved using lr is: \"+str(score_lr)+\" %\")"
      ],
      "execution_count": null,
      "outputs": [
        {
          "output_type": "stream",
          "text": [
            "The accuracy score achieved using lr is: 85.25 %\n"
          ],
          "name": "stdout"
        }
      ]
    },
    {
      "cell_type": "code",
      "metadata": {
        "id": "lWCe-CcXfYcs",
        "outputId": "63653495-c3d0-48c4-a259-5caded1e571a"
      },
      "source": [
        "confusion_matrix(Y_test,Y_pred_lr_1)"
      ],
      "execution_count": null,
      "outputs": [
        {
          "output_type": "execute_result",
          "data": {
            "text/plain": [
              "array([[21,  6],\n",
              "       [ 5, 29]], dtype=int64)"
            ]
          },
          "metadata": {
            "tags": []
          },
          "execution_count": 60
        }
      ]
    },
    {
      "cell_type": "markdown",
      "metadata": {
        "id": "aE607bWrfYcs"
      },
      "source": [
        "# SVM"
      ]
    },
    {
      "cell_type": "code",
      "metadata": {
        "id": "tX3MU4axfYcs"
      },
      "source": [
        "from sklearn import svm\n",
        "\n",
        "sv = svm.SVC(kernel='linear')\n",
        "\n",
        "sv.fit(X_train, Y_train)\n",
        "\n",
        "Y_pred_svm = sv.predict(X_test)"
      ],
      "execution_count": null,
      "outputs": []
    },
    {
      "cell_type": "code",
      "metadata": {
        "id": "Kep5lhbWfYcs",
        "outputId": "a8dbe865-4de1-4db9-cf08-8696e8cc1f5e"
      },
      "source": [
        "score_svm = round(accuracy_score(Y_pred_svm,Y_test)*100,2)\n",
        "\n",
        "print(\"The accuracy score achieved using Linear SVM is: \"+str(score_svm)+\" %\")"
      ],
      "execution_count": null,
      "outputs": [
        {
          "output_type": "stream",
          "text": [
            "The accuracy score achieved using Linear SVM is: 81.97 %\n"
          ],
          "name": "stdout"
        }
      ]
    },
    {
      "cell_type": "code",
      "metadata": {
        "id": "UDQr6pZUfYct",
        "outputId": "127ba1d1-b079-4e2a-ebbc-101d248db27e"
      },
      "source": [
        "confusion_matrix(Y_test,Y_pred_svm)"
      ],
      "execution_count": null,
      "outputs": [
        {
          "output_type": "execute_result",
          "data": {
            "text/plain": [
              "array([[20,  7],\n",
              "       [ 4, 30]], dtype=int64)"
            ]
          },
          "metadata": {
            "tags": []
          },
          "execution_count": 63
        }
      ]
    },
    {
      "cell_type": "code",
      "metadata": {
        "id": "TzriRuqlfYct",
        "outputId": "a1dfdc33-7107-4b8f-a6c3-8e1387ec8130"
      },
      "source": [
        "accuracy_svm = accuracy_score(Y_test,Y_pred_svm)\n",
        "accuracy_svm"
      ],
      "execution_count": null,
      "outputs": [
        {
          "output_type": "execute_result",
          "data": {
            "text/plain": [
              "0.819672131147541"
            ]
          },
          "metadata": {
            "tags": []
          },
          "execution_count": 64
        }
      ]
    },
    {
      "cell_type": "code",
      "metadata": {
        "id": "TtDZpr8BfYct"
      },
      "source": [
        "# apply oversampling technique\n",
        "sv.fit(X_train_ns,Y_train_ns)\n",
        "Y_pred_sv_1 = sv.predict(X_test)"
      ],
      "execution_count": null,
      "outputs": []
    },
    {
      "cell_type": "code",
      "metadata": {
        "id": "RfsMsuBCfYct",
        "outputId": "46d27164-b609-4571-ea12-d596ed53fdc7"
      },
      "source": [
        "score_sv = round(accuracy_score(Y_pred_sv_1,Y_test)*100,2)\n",
        "\n",
        "print(\"The accuracy score achieved using SVM is: \"+str(score_sv)+\" %\")"
      ],
      "execution_count": null,
      "outputs": [
        {
          "output_type": "stream",
          "text": [
            "The accuracy score achieved using SVM is: 83.61 %\n"
          ],
          "name": "stdout"
        }
      ]
    },
    {
      "cell_type": "code",
      "metadata": {
        "id": "LndbPGIhfYct",
        "outputId": "6c939005-558e-45a6-a402-4ed89e6f9119"
      },
      "source": [
        "confusion_matrix(Y_test,Y_pred_sv_1)"
      ],
      "execution_count": null,
      "outputs": [
        {
          "output_type": "execute_result",
          "data": {
            "text/plain": [
              "array([[21,  6],\n",
              "       [ 4, 30]], dtype=int64)"
            ]
          },
          "metadata": {
            "tags": []
          },
          "execution_count": 68
        }
      ]
    },
    {
      "cell_type": "markdown",
      "metadata": {
        "id": "FG6wNpc3fYct"
      },
      "source": [
        "# DT"
      ]
    },
    {
      "cell_type": "code",
      "metadata": {
        "id": "iNZYEfIWfYcu"
      },
      "source": [
        "dt = DecisionTreeClassifier()\n",
        "\n",
        "dt.fit(X_train,Y_train)\n",
        "\n",
        "Y_pred_dt = dt.predict(X_test)"
      ],
      "execution_count": null,
      "outputs": []
    },
    {
      "cell_type": "code",
      "metadata": {
        "id": "oWPKulmVfYcu",
        "outputId": "a766f796-43d8-4b88-fdc3-422606a93290"
      },
      "source": [
        "\n",
        "score_dt = round(accuracy_score(Y_pred_dt,Y_test)*100,2)\n",
        "\n",
        "print(\"The accuracy score achieved using Decision Tree is: \"+str(score_dt)+\" %\")\n"
      ],
      "execution_count": null,
      "outputs": [
        {
          "output_type": "stream",
          "text": [
            "The accuracy score achieved using Decision Tree is: 78.69 %\n"
          ],
          "name": "stdout"
        }
      ]
    },
    {
      "cell_type": "code",
      "metadata": {
        "id": "ucTQBSE5fYcu",
        "outputId": "d426ffee-518b-49bd-8528-b2f9881f247a"
      },
      "source": [
        "confusion_matrix(Y_test,Y_pred_dt)"
      ],
      "execution_count": null,
      "outputs": [
        {
          "output_type": "execute_result",
          "data": {
            "text/plain": [
              "array([[22,  5],\n",
              "       [ 8, 26]], dtype=int64)"
            ]
          },
          "metadata": {
            "tags": []
          },
          "execution_count": 71
        }
      ]
    },
    {
      "cell_type": "code",
      "metadata": {
        "id": "q6ksr8AZfYcu",
        "outputId": "0c6fa9fc-ab11-4069-e96d-a907f9909f72"
      },
      "source": [
        "accuracy_dt = accuracy_score(Y_test,Y_pred_dt)\n",
        "accuracy_dt"
      ],
      "execution_count": null,
      "outputs": [
        {
          "output_type": "execute_result",
          "data": {
            "text/plain": [
              "0.7868852459016393"
            ]
          },
          "metadata": {
            "tags": []
          },
          "execution_count": 72
        }
      ]
    },
    {
      "cell_type": "code",
      "metadata": {
        "id": "OUroB7FrfYcu"
      },
      "source": [
        "# after oversampling \n",
        "dt.fit(X_train_ns,Y_train_ns)\n",
        "Y_pred_dt_1 = sv.predict(X_test)\n"
      ],
      "execution_count": null,
      "outputs": []
    },
    {
      "cell_type": "code",
      "metadata": {
        "id": "DMk4svptfYcu",
        "outputId": "267642d1-5808-43c6-9a6e-4bf99eb038d9"
      },
      "source": [
        "score_dt_1 = round(accuracy_score(Y_pred_dt_1,Y_test)*100,2)\n",
        "\n",
        "print(\"The accuracy score achieved using Decision Tree is: \"+str(score_dt_1)+\" %\")\n"
      ],
      "execution_count": null,
      "outputs": [
        {
          "output_type": "stream",
          "text": [
            "The accuracy score achieved using Decision Tree is: 83.61 %\n"
          ],
          "name": "stdout"
        }
      ]
    },
    {
      "cell_type": "code",
      "metadata": {
        "id": "yS7L43ZffYcv",
        "outputId": "e693df25-a5cb-4a81-ed48-de8dbe1742ff"
      },
      "source": [
        "confusion_matrix(Y_test,Y_pred_dt_1)"
      ],
      "execution_count": null,
      "outputs": [
        {
          "output_type": "execute_result",
          "data": {
            "text/plain": [
              "array([[21,  6],\n",
              "       [ 4, 30]], dtype=int64)"
            ]
          },
          "metadata": {
            "tags": []
          },
          "execution_count": 75
        }
      ]
    },
    {
      "cell_type": "markdown",
      "metadata": {
        "id": "nvHbFu3ufYcv"
      },
      "source": [
        "# RF"
      ]
    },
    {
      "cell_type": "code",
      "metadata": {
        "id": "T6i0ktF7fYcv"
      },
      "source": [
        "rf = RandomForestClassifier()\n",
        "\n",
        "rf.fit(X_train,Y_train)\n",
        "\n",
        "Y_pred_rf = rf.predict(X_test)"
      ],
      "execution_count": null,
      "outputs": []
    },
    {
      "cell_type": "code",
      "metadata": {
        "id": "IjpyFWlgfYcv",
        "outputId": "e8ec3f9c-c17e-4521-c7f4-9c31fc6c4ba4"
      },
      "source": [
        "score_nb = round(accuracy_score(Y_pred_rf,Y_test)*100,2)\n",
        "\n",
        "print(\"The accuracy score achieved using RF is: \"+str(score_nb)+\" %\")"
      ],
      "execution_count": null,
      "outputs": [
        {
          "output_type": "stream",
          "text": [
            "The accuracy score achieved using RF is: 88.52 %\n"
          ],
          "name": "stdout"
        }
      ]
    },
    {
      "cell_type": "code",
      "metadata": {
        "id": "PnvE6NzrfYcv"
      },
      "source": [
        "#### RandomForest\n",
        "max_accuracy = 0\n",
        "\n",
        "\n",
        "for x in range(2000):\n",
        "    rf = RandomForestClassifier(random_state=x)\n",
        "    rf.fit(X_train,Y_train)\n",
        "    Y_pred_rf = rf.predict(X_test)\n",
        "    current_accuracy = round(accuracy_score(Y_pred_rf,Y_test)*100,2)    \n",
        "    if(current_accuracy>max_accuracy):\n",
        "        max_accuracy = current_accuracy\n",
        "        best_x = x\n",
        "        "
      ],
      "execution_count": null,
      "outputs": []
    },
    {
      "cell_type": "code",
      "metadata": {
        "id": "vGlDOV2ifYcv"
      },
      "source": [
        "rf = RandomForestClassifier(random_state=best_x)\n",
        "rf.fit(X_train ,Y_train)\n",
        "Y_pred_rf = rf.predict(X_test)"
      ],
      "execution_count": null,
      "outputs": []
    },
    {
      "cell_type": "code",
      "metadata": {
        "id": "p2Qe2rywfYcv",
        "outputId": "823ddcc6-7ceb-43e1-d5f5-41d0a3e34cc4"
      },
      "source": [
        "score_rf = round(accuracy_score(Y_pred_rf,Y_test)*100,2)\n",
        "\n",
        "print(\"The accuracy score achieved using Decision Tree is: \"+str(score_rf)+\" %\")"
      ],
      "execution_count": null,
      "outputs": [
        {
          "output_type": "stream",
          "text": [
            "The accuracy score achieved using Decision Tree is: 90.16 %\n"
          ],
          "name": "stdout"
        }
      ]
    },
    {
      "cell_type": "code",
      "metadata": {
        "id": "LUXy5KcVfYcw"
      },
      "source": [
        "#### RandomForest\n",
        "max_accuracy = 0\n",
        "\n",
        "\n",
        "for x in range(2000):\n",
        "    rf = RandomForestClassifier(random_state=x)\n",
        "    rf.fit(X_train_ns,Y_train_ns)\n",
        "    Y_pred_rf = rf.predict(X_test)\n",
        "    current_accuracy = round(accuracy_score(Y_pred_rf,Y_test)*100,2)\n",
        "    if(current_accuracy>max_accuracy):\n",
        "        max_accuracy = current_accuracy\n",
        "        best_x = x"
      ],
      "execution_count": null,
      "outputs": []
    },
    {
      "cell_type": "code",
      "metadata": {
        "id": "SJcAbyFIfYcw"
      },
      "source": [
        "rf = RandomForestClassifier(random_state=best_x)\n",
        "rf.fit(X_train_ns,Y_train_ns)\n",
        "Y_pred_rf_2 = rf.predict(X_test)"
      ],
      "execution_count": null,
      "outputs": []
    },
    {
      "cell_type": "code",
      "metadata": {
        "id": "su2ud_EifYcw",
        "outputId": "c0128a02-715a-4eed-df48-07b98321fa61"
      },
      "source": [
        "score_rf_2 = round(accuracy_score(Y_pred_rf_2,Y_test)*100,2)\n",
        "\n",
        "print(\"The accuracy score achieved using Decision Tree is: \"+str(score_rf_2)+\" %\")"
      ],
      "execution_count": null,
      "outputs": [
        {
          "output_type": "stream",
          "text": [
            "The accuracy score achieved using Decision Tree is: 91.8 %\n"
          ],
          "name": "stdout"
        }
      ]
    },
    {
      "cell_type": "markdown",
      "metadata": {
        "id": "ABaI1Gj0fYcw"
      },
      "source": [
        "# classification report "
      ]
    },
    {
      "cell_type": "code",
      "metadata": {
        "id": "3bXFeL6VfYcw",
        "outputId": "4af7837d-2a8d-42b6-d21f-030d7f302088"
      },
      "source": [
        "cm_clf = confusion_matrix(Y_test,Y_pred_rf_2)\n",
        "cr_clf = classification_report(Y_test,Y_pred_rf_2)\n",
        "accuracy_clf = accuracy_score(Y_test,Y_pred_rf_2)\n",
        "accuracy_clf"
      ],
      "execution_count": null,
      "outputs": [
        {
          "output_type": "execute_result",
          "data": {
            "text/plain": [
              "0.9180327868852459"
            ]
          },
          "metadata": {
            "tags": []
          },
          "execution_count": 82
        }
      ]
    },
    {
      "cell_type": "code",
      "metadata": {
        "id": "zaFw3ovhfYcx",
        "outputId": "029f3659-6ce2-45be-d08e-31a9fd8ee853"
      },
      "source": [
        "print(\"Confusion Matrix:\")\n",
        "print(cm_clf)\n",
        "print('\\n')\n",
        "print(\"Classification Report:\")\n",
        "print(cr_clf)\n",
        "print('\\n')\n",
        "print(\"Accuracy:\")\n",
        "print(accuracy_clf)"
      ],
      "execution_count": null,
      "outputs": [
        {
          "output_type": "stream",
          "text": [
            "Confusion Matrix:\n",
            "[[25  2]\n",
            " [ 3 31]]\n",
            "\n",
            "\n",
            "Classification Report:\n",
            "              precision    recall  f1-score   support\n",
            "\n",
            "           0       0.89      0.93      0.91        27\n",
            "           1       0.94      0.91      0.93        34\n",
            "\n",
            "    accuracy                           0.92        61\n",
            "   macro avg       0.92      0.92      0.92        61\n",
            "weighted avg       0.92      0.92      0.92        61\n",
            "\n",
            "\n",
            "\n",
            "Accuracy:\n",
            "0.9180327868852459\n"
          ],
          "name": "stdout"
        }
      ]
    },
    {
      "cell_type": "markdown",
      "metadata": {
        "id": "aJTejoBHfYcx"
      },
      "source": [
        "# XGB"
      ]
    },
    {
      "cell_type": "code",
      "metadata": {
        "id": "_70jwmaSfYcx"
      },
      "source": [
        "import xgboost as xgb\n",
        "xgb_model = xgb.XGBClassifier(objective=\"binary:logistic\", random_state=42, subsample=0.9)\n",
        "xgb_model.fit(X_train, Y_train)\n",
        "\n",
        "Y_pred_xgb = xgb_model.predict(X_test)"
      ],
      "execution_count": null,
      "outputs": []
    },
    {
      "cell_type": "code",
      "metadata": {
        "id": "DBwhNZkZfYcx",
        "outputId": "698da782-0cf0-421d-98a5-1fa20d8e772d"
      },
      "source": [
        "score_xgb = round(accuracy_score(Y_pred_xgb,Y_test)*100,2)\n",
        "\n",
        "print(\"The accuracy score achieved using XGB is: \"+str(score_xgb)+\" %\")"
      ],
      "execution_count": null,
      "outputs": [
        {
          "output_type": "stream",
          "text": [
            "The accuracy score achieved using XGB is: 85.25 %\n"
          ],
          "name": "stdout"
        }
      ]
    },
    {
      "cell_type": "code",
      "metadata": {
        "id": "9Rk4aQyIfYcx",
        "outputId": "3b3da1ca-a299-489a-887b-525b3526097d"
      },
      "source": [
        "confusion_matrix(Y_test,Y_pred_xgb)"
      ],
      "execution_count": null,
      "outputs": [
        {
          "output_type": "execute_result",
          "data": {
            "text/plain": [
              "array([[22,  5],\n",
              "       [ 4, 30]], dtype=int64)"
            ]
          },
          "metadata": {
            "tags": []
          },
          "execution_count": 86
        }
      ]
    },
    {
      "cell_type": "code",
      "metadata": {
        "id": "eJUu4veufYcx",
        "outputId": "b5eb6c08-ae7c-4a30-d816-7cca05dc8e79"
      },
      "source": [
        "accuracy_clf = accuracy_score(Y_test,Y_pred_xgb)\n",
        "accuracy_clf"
      ],
      "execution_count": null,
      "outputs": [
        {
          "output_type": "execute_result",
          "data": {
            "text/plain": [
              "0.8524590163934426"
            ]
          },
          "metadata": {
            "tags": []
          },
          "execution_count": 87
        }
      ]
    },
    {
      "cell_type": "code",
      "metadata": {
        "id": "ghbsGPcdfYcy"
      },
      "source": [
        "# apply sampling technique"
      ],
      "execution_count": null,
      "outputs": []
    },
    {
      "cell_type": "code",
      "metadata": {
        "id": "3UsLrbRRfYcy",
        "outputId": "b5d8188e-ca9a-45c2-9bd2-793940b1862a"
      },
      "source": [
        "Y_train.value_counts()"
      ],
      "execution_count": null,
      "outputs": [
        {
          "output_type": "execute_result",
          "data": {
            "text/plain": [
              "1    131\n",
              "0    111\n",
              "Name: target, dtype: int64"
            ]
          },
          "metadata": {
            "tags": []
          },
          "execution_count": 92
        }
      ]
    },
    {
      "cell_type": "code",
      "metadata": {
        "id": "85v7J4DNfYcy"
      },
      "source": [
        "# to blance a data oversampling\n",
        "from imblearn.over_sampling import RandomOverSampler\n",
        "from collections import Counter"
      ],
      "execution_count": null,
      "outputs": []
    },
    {
      "cell_type": "code",
      "metadata": {
        "id": "PSoAU1B4fYcy"
      },
      "source": [
        "xgb_model.fit(X_train_ns,Y_train_ns)\n",
        "Y_pred_xgb_1 = xgb_model.predict(X_test)"
      ],
      "execution_count": null,
      "outputs": []
    },
    {
      "cell_type": "code",
      "metadata": {
        "id": "rwFk4HUqfYcy",
        "outputId": "1875f114-b41f-42ce-eb00-b7f747636a11"
      },
      "source": [
        "confusion_matrix(Y_test,Y_pred_xgb_1)"
      ],
      "execution_count": null,
      "outputs": [
        {
          "output_type": "execute_result",
          "data": {
            "text/plain": [
              "array([[23,  4],\n",
              "       [ 4, 30]], dtype=int64)"
            ]
          },
          "metadata": {
            "tags": []
          },
          "execution_count": 44
        }
      ]
    },
    {
      "cell_type": "code",
      "metadata": {
        "id": "7qajfn5-fYcy",
        "outputId": "6c6f8223-73dc-45bf-ed48-9c6bd1bf0e27"
      },
      "source": [
        "accuracy_clf = accuracy_score(Y_test,Y_pred_xgb_1)\n",
        "accuracy_clf"
      ],
      "execution_count": null,
      "outputs": [
        {
          "output_type": "execute_result",
          "data": {
            "text/plain": [
              "0.8688524590163934"
            ]
          },
          "metadata": {
            "tags": []
          },
          "execution_count": 45
        }
      ]
    },
    {
      "cell_type": "code",
      "metadata": {
        "id": "dRFBQb1bfYcz"
      },
      "source": [
        "cr_xgb = classification_report(Y_test,Y_pred_xgb_1)"
      ],
      "execution_count": null,
      "outputs": []
    },
    {
      "cell_type": "code",
      "metadata": {
        "id": "Kp19-26zfYcz",
        "outputId": "fda90248-a301-47a2-e3c7-5fb7b264efad"
      },
      "source": [
        "print(cr_xgb)"
      ],
      "execution_count": null,
      "outputs": [
        {
          "output_type": "stream",
          "text": [
            "              precision    recall  f1-score   support\n",
            "\n",
            "           0       0.85      0.85      0.85        27\n",
            "           1       0.88      0.88      0.88        34\n",
            "\n",
            "    accuracy                           0.87        61\n",
            "   macro avg       0.87      0.87      0.87        61\n",
            "weighted avg       0.87      0.87      0.87        61\n",
            "\n"
          ],
          "name": "stdout"
        }
      ]
    },
    {
      "cell_type": "code",
      "metadata": {
        "id": "irWJTb4EfYcz"
      },
      "source": [
        "# under sampling \n",
        "from imblearn.under_sampling import RandomUnderSampler\n",
        "from collections import Counter"
      ],
      "execution_count": null,
      "outputs": []
    },
    {
      "cell_type": "code",
      "metadata": {
        "id": "0Q2MGsitfYcz",
        "outputId": "5ce75611-0e61-4913-8079-9804e4568ac2"
      },
      "source": [
        "us=RandomUnderSampler()\n",
        "X_train_ns,y_train_ns=us.fit_resample(X_train,Y_train)\n",
        "print(\"The number of classes before over samplting:\",Counter(Y_train))\n",
        "print(\"The number of classes after over sampling:\",Counter(y_train_ns))"
      ],
      "execution_count": null,
      "outputs": [
        {
          "output_type": "stream",
          "text": [
            "The number of classes before over samplting: Counter({1: 131, 0: 111})\n",
            "The number of classes after over sampling: Counter({0: 111, 1: 111})\n"
          ],
          "name": "stdout"
        }
      ]
    },
    {
      "cell_type": "code",
      "metadata": {
        "id": "yE08vbOzfYcz"
      },
      "source": [
        "xgb_model.fit(X_train_ns,y_train_ns)\n",
        "Y_pred_xgb_2 = xgb_model.predict(X_test)"
      ],
      "execution_count": null,
      "outputs": []
    },
    {
      "cell_type": "code",
      "metadata": {
        "id": "e1qXEAkwfYc0",
        "outputId": "e8d9f966-4a89-406e-da0a-002bfe210d38"
      },
      "source": [
        "score_rf = round(accuracy_score(Y_pred_xgb_2,Y_test)*100,2)\n",
        "\n",
        "print(\"The accuracy score achieved using XGB is: \"+str(score_rf)+\" %\")\n",
        "\n"
      ],
      "execution_count": null,
      "outputs": [
        {
          "output_type": "stream",
          "text": [
            "The accuracy score achieved using XGB is: 81.97 %\n"
          ],
          "name": "stdout"
        }
      ]
    },
    {
      "cell_type": "code",
      "metadata": {
        "id": "TqZBYsH0fYc0",
        "outputId": "ca87dc7c-7af4-45fd-95cd-fc56aa67763e"
      },
      "source": [
        "confusion_matrix(Y_test,Y_pred_xgb_2)"
      ],
      "execution_count": null,
      "outputs": [
        {
          "output_type": "execute_result",
          "data": {
            "text/plain": [
              "array([[21,  6],\n",
              "       [ 5, 29]], dtype=int64)"
            ]
          },
          "metadata": {
            "tags": []
          },
          "execution_count": 111
        }
      ]
    },
    {
      "cell_type": "markdown",
      "metadata": {
        "id": "PDSLkThXfYc0"
      },
      "source": [
        "# ANN"
      ]
    },
    {
      "cell_type": "code",
      "metadata": {
        "id": "lrYKsrS8fYc0"
      },
      "source": [
        "import tensorflow as tf"
      ],
      "execution_count": null,
      "outputs": []
    },
    {
      "cell_type": "code",
      "metadata": {
        "id": "QUNnpFLHfYc0"
      },
      "source": [
        "from tensorflow.keras.models import Sequential\n",
        "from tensorflow.keras.layers import Dense"
      ],
      "execution_count": null,
      "outputs": []
    },
    {
      "cell_type": "code",
      "metadata": {
        "id": "MSdjqzylfYc0"
      },
      "source": [
        "model = Sequential()\n",
        "model.add(Dense(11,activation='relu',input_dim=13))\n",
        "model.add(Dense(1,activation='sigmoid'))\n",
        "\n",
        "model.compile(loss='binary_crossentropy',optimizer='adam',metrics=['accuracy'])"
      ],
      "execution_count": null,
      "outputs": []
    },
    {
      "cell_type": "code",
      "metadata": {
        "id": "7JWjAhZBfYc0",
        "outputId": "2ad45459-34fd-47ef-f656-57d5592033d9"
      },
      "source": [
        "model.fit(X_train,Y_train,epochs=300)"
      ],
      "execution_count": null,
      "outputs": [
        {
          "output_type": "stream",
          "text": [
            "Epoch 1/300\n",
            "8/8 [==============================] - 0s 3ms/step - loss: 3.0771 - accuracy: 0.5165\n",
            "Epoch 2/300\n",
            "8/8 [==============================] - 0s 4ms/step - loss: 2.5804 - accuracy: 0.4793\n",
            "Epoch 3/300\n",
            "8/8 [==============================] - 0s 2ms/step - loss: 2.4586 - accuracy: 0.5000\n",
            "Epoch 4/300\n",
            "8/8 [==============================] - 0s 2ms/step - loss: 2.4044 - accuracy: 0.5331\n",
            "Epoch 5/300\n",
            "8/8 [==============================] - 0s 2ms/step - loss: 2.3015 - accuracy: 0.5248\n",
            "Epoch 6/300\n",
            "8/8 [==============================] - 0s 2ms/step - loss: 2.3127 - accuracy: 0.5041\n",
            "Epoch 7/300\n",
            "8/8 [==============================] - 0s 2ms/step - loss: 2.2284 - accuracy: 0.5413\n",
            "Epoch 8/300\n",
            "8/8 [==============================] - 0s 2ms/step - loss: 2.1183 - accuracy: 0.5413\n",
            "Epoch 9/300\n",
            "8/8 [==============================] - 0s 2ms/step - loss: 2.0881 - accuracy: 0.5124\n",
            "Epoch 10/300\n",
            "8/8 [==============================] - 0s 2ms/step - loss: 2.0013 - accuracy: 0.5207\n",
            "Epoch 11/300\n",
            "8/8 [==============================] - 0s 2ms/step - loss: 1.9247 - accuracy: 0.5289\n",
            "Epoch 12/300\n",
            "8/8 [==============================] - 0s 2ms/step - loss: 1.8695 - accuracy: 0.5289\n",
            "Epoch 13/300\n",
            "8/8 [==============================] - 0s 2ms/step - loss: 1.8324 - accuracy: 0.5455\n",
            "Epoch 14/300\n",
            "8/8 [==============================] - 0s 2ms/step - loss: 1.7548 - accuracy: 0.5413\n",
            "Epoch 15/300\n",
            "8/8 [==============================] - 0s 2ms/step - loss: 1.7017 - accuracy: 0.5579\n",
            "Epoch 16/300\n",
            "8/8 [==============================] - 0s 2ms/step - loss: 1.6657 - accuracy: 0.5702\n",
            "Epoch 17/300\n",
            "8/8 [==============================] - 0s 2ms/step - loss: 1.6117 - accuracy: 0.5579\n",
            "Epoch 18/300\n",
            "8/8 [==============================] - 0s 2ms/step - loss: 1.5640 - accuracy: 0.5661\n",
            "Epoch 19/300\n",
            "8/8 [==============================] - 0s 3ms/step - loss: 1.5278 - accuracy: 0.5744\n",
            "Epoch 20/300\n",
            "8/8 [==============================] - 0s 2ms/step - loss: 1.4704 - accuracy: 0.5826\n",
            "Epoch 21/300\n",
            "8/8 [==============================] - 0s 2ms/step - loss: 1.4233 - accuracy: 0.5950\n",
            "Epoch 22/300\n",
            "8/8 [==============================] - 0s 2ms/step - loss: 1.4343 - accuracy: 0.5785\n",
            "Epoch 23/300\n",
            "8/8 [==============================] - 0s 2ms/step - loss: 1.3808 - accuracy: 0.6074\n",
            "Epoch 24/300\n",
            "8/8 [==============================] - 0s 2ms/step - loss: 1.3076 - accuracy: 0.6074\n",
            "Epoch 25/300\n",
            "8/8 [==============================] - 0s 2ms/step - loss: 1.2908 - accuracy: 0.6074\n",
            "Epoch 26/300\n",
            "8/8 [==============================] - 0s 2ms/step - loss: 1.2462 - accuracy: 0.6074\n",
            "Epoch 27/300\n",
            "8/8 [==============================] - 0s 2ms/step - loss: 1.2159 - accuracy: 0.6240\n",
            "Epoch 28/300\n",
            "8/8 [==============================] - 0s 2ms/step - loss: 1.1929 - accuracy: 0.6116\n",
            "Epoch 29/300\n",
            "8/8 [==============================] - 0s 2ms/step - loss: 1.1597 - accuracy: 0.6322\n",
            "Epoch 30/300\n",
            "8/8 [==============================] - 0s 2ms/step - loss: 1.1265 - accuracy: 0.6364\n",
            "Epoch 31/300\n",
            "8/8 [==============================] - 0s 2ms/step - loss: 1.1047 - accuracy: 0.6364\n",
            "Epoch 32/300\n",
            "8/8 [==============================] - 0s 2ms/step - loss: 1.0776 - accuracy: 0.6405\n",
            "Epoch 33/300\n",
            "8/8 [==============================] - 0s 2ms/step - loss: 1.0692 - accuracy: 0.6446\n",
            "Epoch 34/300\n",
            "8/8 [==============================] - 0s 2ms/step - loss: 1.0406 - accuracy: 0.6405\n",
            "Epoch 35/300\n",
            "8/8 [==============================] - 0s 5ms/step - loss: 1.0713 - accuracy: 0.6198\n",
            "Epoch 36/300\n",
            "8/8 [==============================] - 0s 2ms/step - loss: 1.0164 - accuracy: 0.6488\n",
            "Epoch 37/300\n",
            "8/8 [==============================] - 0s 4ms/step - loss: 0.9740 - accuracy: 0.6529\n",
            "Epoch 38/300\n",
            "8/8 [==============================] - 0s 2ms/step - loss: 0.9515 - accuracy: 0.6446\n",
            "Epoch 39/300\n",
            "8/8 [==============================] - 0s 4ms/step - loss: 0.9378 - accuracy: 0.6612\n",
            "Epoch 40/300\n",
            "8/8 [==============================] - 0s 2ms/step - loss: 0.9124 - accuracy: 0.6570\n",
            "Epoch 41/300\n",
            "8/8 [==============================] - 0s 4ms/step - loss: 0.9031 - accuracy: 0.6612\n",
            "Epoch 42/300\n",
            "8/8 [==============================] - 0s 2ms/step - loss: 0.9093 - accuracy: 0.6694\n",
            "Epoch 43/300\n",
            "8/8 [==============================] - 0s 2ms/step - loss: 0.8655 - accuracy: 0.6694\n",
            "Epoch 44/300\n",
            "8/8 [==============================] - 0s 2ms/step - loss: 0.8552 - accuracy: 0.6694\n",
            "Epoch 45/300\n",
            "8/8 [==============================] - 0s 4ms/step - loss: 0.8387 - accuracy: 0.6777\n",
            "Epoch 46/300\n",
            "8/8 [==============================] - 0s 2ms/step - loss: 0.8363 - accuracy: 0.6570\n",
            "Epoch 47/300\n",
            "8/8 [==============================] - 0s 2ms/step - loss: 0.8175 - accuracy: 0.6736\n",
            "Epoch 48/300\n",
            "8/8 [==============================] - 0s 2ms/step - loss: 0.8086 - accuracy: 0.6777\n",
            "Epoch 49/300\n",
            "8/8 [==============================] - 0s 4ms/step - loss: 0.7979 - accuracy: 0.6860\n",
            "Epoch 50/300\n",
            "8/8 [==============================] - 0s 2ms/step - loss: 0.7806 - accuracy: 0.7066\n",
            "Epoch 51/300\n",
            "8/8 [==============================] - 0s 3ms/step - loss: 0.7780 - accuracy: 0.6736\n",
            "Epoch 52/300\n",
            "8/8 [==============================] - 0s 3ms/step - loss: 0.7664 - accuracy: 0.6694\n",
            "Epoch 53/300\n",
            "8/8 [==============================] - 0s 2ms/step - loss: 0.7559 - accuracy: 0.7025\n",
            "Epoch 54/300\n",
            "8/8 [==============================] - 0s 2ms/step - loss: 0.7423 - accuracy: 0.6694\n",
            "Epoch 55/300\n",
            "8/8 [==============================] - 0s 2ms/step - loss: 0.7253 - accuracy: 0.6860\n",
            "Epoch 56/300\n",
            "8/8 [==============================] - 0s 2ms/step - loss: 0.7171 - accuracy: 0.6942\n",
            "Epoch 57/300\n",
            "8/8 [==============================] - 0s 2ms/step - loss: 0.7117 - accuracy: 0.7190\n",
            "Epoch 58/300\n",
            "8/8 [==============================] - 0s 2ms/step - loss: 0.7016 - accuracy: 0.6942\n",
            "Epoch 59/300\n",
            "8/8 [==============================] - 0s 2ms/step - loss: 0.6917 - accuracy: 0.6942\n",
            "Epoch 60/300\n",
            "8/8 [==============================] - 0s 5ms/step - loss: 0.6923 - accuracy: 0.7066\n",
            "Epoch 61/300\n",
            "8/8 [==============================] - 0s 2ms/step - loss: 0.6782 - accuracy: 0.6942\n",
            "Epoch 62/300\n",
            "8/8 [==============================] - 0s 4ms/step - loss: 0.6751 - accuracy: 0.7107\n",
            "Epoch 63/300\n",
            "8/8 [==============================] - 0s 2ms/step - loss: 0.6779 - accuracy: 0.7149\n",
            "Epoch 64/300\n",
            "8/8 [==============================] - 0s 4ms/step - loss: 0.6553 - accuracy: 0.7190\n",
            "Epoch 65/300\n",
            "8/8 [==============================] - 0s 2ms/step - loss: 0.6442 - accuracy: 0.7314\n",
            "Epoch 66/300\n",
            "8/8 [==============================] - 0s 3ms/step - loss: 0.6435 - accuracy: 0.7107\n",
            "Epoch 67/300\n",
            "8/8 [==============================] - 0s 2ms/step - loss: 0.6361 - accuracy: 0.7231\n",
            "Epoch 68/300\n",
            "8/8 [==============================] - 0s 4ms/step - loss: 0.6292 - accuracy: 0.7190\n",
            "Epoch 69/300\n",
            "8/8 [==============================] - 0s 2ms/step - loss: 0.6212 - accuracy: 0.7149\n",
            "Epoch 70/300\n",
            "8/8 [==============================] - 0s 3ms/step - loss: 0.6168 - accuracy: 0.7273\n",
            "Epoch 71/300\n",
            "8/8 [==============================] - 0s 2ms/step - loss: 0.6163 - accuracy: 0.7231\n",
            "Epoch 72/300\n",
            "8/8 [==============================] - 0s 2ms/step - loss: 0.6126 - accuracy: 0.7314\n",
            "Epoch 73/300\n",
            "8/8 [==============================] - 0s 2ms/step - loss: 0.6096 - accuracy: 0.7479\n",
            "Epoch 74/300\n",
            "8/8 [==============================] - 0s 2ms/step - loss: 0.6424 - accuracy: 0.6942\n",
            "Epoch 75/300\n",
            "8/8 [==============================] - 0s 2ms/step - loss: 0.6114 - accuracy: 0.7479\n",
            "Epoch 76/300\n",
            "8/8 [==============================] - 0s 2ms/step - loss: 0.5949 - accuracy: 0.7314\n",
            "Epoch 77/300\n",
            "8/8 [==============================] - 0s 2ms/step - loss: 0.5934 - accuracy: 0.7355\n",
            "Epoch 78/300\n",
            "8/8 [==============================] - 0s 2ms/step - loss: 0.5817 - accuracy: 0.7397\n",
            "Epoch 79/300\n",
            "8/8 [==============================] - 0s 2ms/step - loss: 0.5708 - accuracy: 0.7314\n",
            "Epoch 80/300\n",
            "8/8 [==============================] - 0s 2ms/step - loss: 0.5730 - accuracy: 0.7438\n",
            "Epoch 81/300\n",
            "8/8 [==============================] - 0s 3ms/step - loss: 0.5705 - accuracy: 0.7521\n",
            "Epoch 82/300\n",
            "8/8 [==============================] - 0s 2ms/step - loss: 0.5605 - accuracy: 0.7438\n",
            "Epoch 83/300\n",
            "8/8 [==============================] - 0s 5ms/step - loss: 0.5519 - accuracy: 0.7521\n",
            "Epoch 84/300\n",
            "8/8 [==============================] - 0s 2ms/step - loss: 0.5548 - accuracy: 0.7397\n",
            "Epoch 85/300\n",
            "8/8 [==============================] - 0s 2ms/step - loss: 0.5415 - accuracy: 0.7479\n",
            "Epoch 86/300\n",
            "8/8 [==============================] - 0s 2ms/step - loss: 0.5359 - accuracy: 0.7603\n",
            "Epoch 87/300\n",
            "8/8 [==============================] - 0s 2ms/step - loss: 0.5367 - accuracy: 0.7521\n",
            "Epoch 88/300\n",
            "8/8 [==============================] - 0s 4ms/step - loss: 0.5362 - accuracy: 0.7603\n",
            "Epoch 89/300\n",
            "8/8 [==============================] - 0s 2ms/step - loss: 0.5481 - accuracy: 0.7438\n",
            "Epoch 90/300\n",
            "8/8 [==============================] - 0s 4ms/step - loss: 0.5279 - accuracy: 0.7645\n",
            "Epoch 91/300\n",
            "8/8 [==============================] - 0s 2ms/step - loss: 0.5172 - accuracy: 0.7521\n",
            "Epoch 92/300\n",
            "8/8 [==============================] - 0s 2ms/step - loss: 0.5194 - accuracy: 0.7521\n",
            "Epoch 93/300\n",
            "8/8 [==============================] - 0s 6ms/step - loss: 0.5118 - accuracy: 0.7645\n",
            "Epoch 94/300\n",
            "8/8 [==============================] - 0s 2ms/step - loss: 0.5124 - accuracy: 0.7562\n",
            "Epoch 95/300\n",
            "8/8 [==============================] - 0s 4ms/step - loss: 0.5074 - accuracy: 0.7686\n",
            "Epoch 96/300\n",
            "8/8 [==============================] - 0s 2ms/step - loss: 0.5144 - accuracy: 0.7479\n",
            "Epoch 97/300\n",
            "8/8 [==============================] - 0s 4ms/step - loss: 0.5158 - accuracy: 0.7727\n",
            "Epoch 98/300\n",
            "8/8 [==============================] - 0s 2ms/step - loss: 0.4966 - accuracy: 0.7562\n",
            "Epoch 99/300\n",
            "8/8 [==============================] - 0s 6ms/step - loss: 0.5015 - accuracy: 0.7645\n",
            "Epoch 100/300\n",
            "8/8 [==============================] - 0s 2ms/step - loss: 0.4920 - accuracy: 0.7686\n",
            "Epoch 101/300\n",
            "8/8 [==============================] - 0s 5ms/step - loss: 0.4879 - accuracy: 0.7727\n",
            "Epoch 102/300\n",
            "8/8 [==============================] - 0s 2ms/step - loss: 0.4988 - accuracy: 0.7521\n",
            "Epoch 103/300\n",
            "8/8 [==============================] - 0s 4ms/step - loss: 0.5006 - accuracy: 0.7645\n",
            "Epoch 104/300\n",
            "8/8 [==============================] - 0s 2ms/step - loss: 0.5196 - accuracy: 0.7562\n",
            "Epoch 105/300\n",
            "8/8 [==============================] - 0s 3ms/step - loss: 0.4886 - accuracy: 0.7686\n",
            "Epoch 106/300\n",
            "8/8 [==============================] - 0s 2ms/step - loss: 0.4776 - accuracy: 0.7769\n",
            "Epoch 107/300\n",
            "8/8 [==============================] - 0s 5ms/step - loss: 0.4695 - accuracy: 0.7810\n",
            "Epoch 108/300\n",
            "8/8 [==============================] - 0s 2ms/step - loss: 0.4830 - accuracy: 0.7810\n",
            "Epoch 109/300\n",
            "8/8 [==============================] - 0s 5ms/step - loss: 0.4648 - accuracy: 0.7851\n",
            "Epoch 110/300\n",
            "8/8 [==============================] - 0s 2ms/step - loss: 0.5109 - accuracy: 0.7397\n",
            "Epoch 111/300\n",
            "8/8 [==============================] - 0s 4ms/step - loss: 0.5092 - accuracy: 0.7562\n",
            "Epoch 112/300\n",
            "8/8 [==============================] - 0s 2ms/step - loss: 0.4793 - accuracy: 0.7727\n",
            "Epoch 113/300\n",
            "8/8 [==============================] - 0s 2ms/step - loss: 0.5065 - accuracy: 0.7645\n",
            "Epoch 114/300\n",
            "8/8 [==============================] - 0s 2ms/step - loss: 0.4615 - accuracy: 0.7810\n",
            "Epoch 115/300\n",
            "8/8 [==============================] - 0s 7ms/step - loss: 0.4510 - accuracy: 0.7893\n",
            "Epoch 116/300\n",
            "8/8 [==============================] - 0s 2ms/step - loss: 0.4607 - accuracy: 0.7975\n",
            "Epoch 117/300\n",
            "8/8 [==============================] - 0s 2ms/step - loss: 0.4701 - accuracy: 0.7810\n",
            "Epoch 118/300\n",
            "8/8 [==============================] - 0s 1ms/step - loss: 0.4522 - accuracy: 0.8017\n",
            "Epoch 119/300\n",
            "8/8 [==============================] - 0s 2ms/step - loss: 0.4471 - accuracy: 0.8058\n",
            "Epoch 120/300\n",
            "8/8 [==============================] - 0s 2ms/step - loss: 0.4508 - accuracy: 0.8099\n",
            "Epoch 121/300\n",
            "8/8 [==============================] - 0s 2ms/step - loss: 0.4513 - accuracy: 0.7934\n",
            "Epoch 122/300\n",
            "8/8 [==============================] - 0s 2ms/step - loss: 0.4488 - accuracy: 0.7810\n",
            "Epoch 123/300\n",
            "8/8 [==============================] - 0s 2ms/step - loss: 0.4517 - accuracy: 0.7851\n",
            "Epoch 124/300\n",
            "8/8 [==============================] - 0s 2ms/step - loss: 0.4488 - accuracy: 0.7893\n",
            "Epoch 125/300\n",
            "8/8 [==============================] - 0s 2ms/step - loss: 0.4463 - accuracy: 0.7934\n",
            "Epoch 126/300\n",
            "8/8 [==============================] - 0s 2ms/step - loss: 0.4496 - accuracy: 0.8099\n",
            "Epoch 127/300\n",
            "8/8 [==============================] - 0s 2ms/step - loss: 0.4537 - accuracy: 0.7893\n",
            "Epoch 128/300\n",
            "8/8 [==============================] - 0s 2ms/step - loss: 0.4494 - accuracy: 0.7727\n",
            "Epoch 129/300\n",
            "8/8 [==============================] - 0s 2ms/step - loss: 0.4619 - accuracy: 0.7769\n",
            "Epoch 130/300\n",
            "8/8 [==============================] - 0s 2ms/step - loss: 0.4611 - accuracy: 0.7562\n",
            "Epoch 131/300\n",
            "8/8 [==============================] - 0s 2ms/step - loss: 0.5099 - accuracy: 0.7727\n",
            "Epoch 132/300\n",
            "8/8 [==============================] - 0s 2ms/step - loss: 0.4458 - accuracy: 0.8058\n",
            "Epoch 133/300\n",
            "8/8 [==============================] - 0s 2ms/step - loss: 0.4398 - accuracy: 0.8182\n",
            "Epoch 134/300\n",
            "8/8 [==============================] - 0s 2ms/step - loss: 0.4267 - accuracy: 0.8223\n",
            "Epoch 135/300\n",
            "8/8 [==============================] - 0s 3ms/step - loss: 0.4214 - accuracy: 0.8306\n",
            "Epoch 136/300\n",
            "8/8 [==============================] - 0s 2ms/step - loss: 0.4268 - accuracy: 0.8017\n",
            "Epoch 137/300\n",
            "8/8 [==============================] - 0s 6ms/step - loss: 0.4372 - accuracy: 0.8306\n",
            "Epoch 138/300\n",
            "8/8 [==============================] - 0s 2ms/step - loss: 0.4618 - accuracy: 0.7645\n",
            "Epoch 139/300\n",
            "8/8 [==============================] - 0s 3ms/step - loss: 0.4335 - accuracy: 0.8099\n",
            "Epoch 140/300\n",
            "8/8 [==============================] - 0s 1ms/step - loss: 0.4198 - accuracy: 0.8182\n",
            "Epoch 141/300\n",
            "8/8 [==============================] - 0s 3ms/step - loss: 0.4123 - accuracy: 0.8347\n",
            "Epoch 142/300\n",
            "8/8 [==============================] - 0s 2ms/step - loss: 0.4150 - accuracy: 0.8306\n",
            "Epoch 143/300\n",
            "8/8 [==============================] - 0s 5ms/step - loss: 0.4182 - accuracy: 0.8347\n",
            "Epoch 144/300\n",
            "8/8 [==============================] - 0s 2ms/step - loss: 0.4157 - accuracy: 0.8347\n",
            "Epoch 145/300\n",
            "8/8 [==============================] - 0s 3ms/step - loss: 0.4151 - accuracy: 0.8264\n",
            "Epoch 146/300\n",
            "8/8 [==============================] - 0s 2ms/step - loss: 0.4097 - accuracy: 0.8306\n",
            "Epoch 147/300\n",
            "8/8 [==============================] - 0s 2ms/step - loss: 0.4155 - accuracy: 0.8182\n",
            "Epoch 148/300\n",
            "8/8 [==============================] - 0s 6ms/step - loss: 0.4308 - accuracy: 0.8264\n",
            "Epoch 149/300\n",
            "8/8 [==============================] - 0s 2ms/step - loss: 0.4134 - accuracy: 0.8264\n",
            "Epoch 150/300\n",
            "8/8 [==============================] - 0s 2ms/step - loss: 0.4069 - accuracy: 0.8347\n",
            "Epoch 151/300\n",
            "8/8 [==============================] - 0s 2ms/step - loss: 0.4124 - accuracy: 0.8140\n",
            "Epoch 152/300\n",
            "8/8 [==============================] - 0s 2ms/step - loss: 0.4152 - accuracy: 0.8223\n",
            "Epoch 153/300\n",
            "8/8 [==============================] - 0s 4ms/step - loss: 0.4277 - accuracy: 0.8140\n",
            "Epoch 154/300\n",
            "8/8 [==============================] - 0s 2ms/step - loss: 0.4061 - accuracy: 0.8264\n",
            "Epoch 155/300\n",
            "8/8 [==============================] - 0s 4ms/step - loss: 0.4143 - accuracy: 0.8140\n",
            "Epoch 156/300\n",
            "8/8 [==============================] - 0s 2ms/step - loss: 0.4117 - accuracy: 0.8182\n",
            "Epoch 157/300\n",
            "8/8 [==============================] - 0s 5ms/step - loss: 0.4034 - accuracy: 0.8347\n",
            "Epoch 158/300\n",
            "8/8 [==============================] - 0s 2ms/step - loss: 0.4024 - accuracy: 0.8223\n",
            "Epoch 159/300\n",
            "8/8 [==============================] - 0s 5ms/step - loss: 0.4022 - accuracy: 0.8388\n",
            "Epoch 160/300\n",
            "8/8 [==============================] - 0s 2ms/step - loss: 0.4051 - accuracy: 0.8223\n",
            "Epoch 161/300\n",
            "8/8 [==============================] - 0s 5ms/step - loss: 0.4397 - accuracy: 0.7851\n",
            "Epoch 162/300\n",
            "8/8 [==============================] - 0s 2ms/step - loss: 0.4031 - accuracy: 0.8264\n",
            "Epoch 163/300\n",
            "8/8 [==============================] - ETA: 0s - loss: 0.4463 - accuracy: 0.81 - 0s 2ms/step - loss: 0.4130 - accuracy: 0.8264\n",
            "Epoch 164/300\n",
            "8/8 [==============================] - 0s 2ms/step - loss: 0.4164 - accuracy: 0.7975\n",
            "Epoch 165/300\n",
            "8/8 [==============================] - 0s 2ms/step - loss: 0.4120 - accuracy: 0.8347\n",
            "Epoch 166/300\n",
            "8/8 [==============================] - 0s 2ms/step - loss: 0.3956 - accuracy: 0.8512\n",
            "Epoch 167/300\n",
            "8/8 [==============================] - 0s 2ms/step - loss: 0.4044 - accuracy: 0.8182\n",
            "Epoch 168/300\n",
            "8/8 [==============================] - 0s 2ms/step - loss: 0.4000 - accuracy: 0.8595\n",
            "Epoch 169/300\n",
            "8/8 [==============================] - 0s 2ms/step - loss: 0.4052 - accuracy: 0.8347\n",
            "Epoch 170/300\n",
            "8/8 [==============================] - 0s 2ms/step - loss: 0.4134 - accuracy: 0.8223\n",
            "Epoch 171/300\n",
            "8/8 [==============================] - 0s 2ms/step - loss: 0.4010 - accuracy: 0.8471\n",
            "Epoch 172/300\n",
            "8/8 [==============================] - 0s 4ms/step - loss: 0.3974 - accuracy: 0.8306\n",
            "Epoch 173/300\n",
            "8/8 [==============================] - 0s 2ms/step - loss: 0.3969 - accuracy: 0.8306\n",
            "Epoch 174/300\n",
            "8/8 [==============================] - 0s 3ms/step - loss: 0.3970 - accuracy: 0.8347\n",
            "Epoch 175/300\n",
            "8/8 [==============================] - 0s 2ms/step - loss: 0.4025 - accuracy: 0.8264\n",
            "Epoch 176/300\n",
            "8/8 [==============================] - 0s 3ms/step - loss: 0.3912 - accuracy: 0.8223\n",
            "Epoch 177/300\n",
            "8/8 [==============================] - 0s 2ms/step - loss: 0.3955 - accuracy: 0.8388\n",
            "Epoch 178/300\n",
            "8/8 [==============================] - 0s 3ms/step - loss: 0.3986 - accuracy: 0.8223\n",
            "Epoch 179/300\n",
            "8/8 [==============================] - 0s 2ms/step - loss: 0.3997 - accuracy: 0.8347\n",
            "Epoch 180/300\n",
            "8/8 [==============================] - ETA: 0s - loss: 0.3752 - accuracy: 0.87 - 0s 3ms/step - loss: 0.3884 - accuracy: 0.8512\n",
            "Epoch 181/300\n",
            "8/8 [==============================] - 0s 2ms/step - loss: 0.3937 - accuracy: 0.8306\n",
            "Epoch 182/300\n",
            "8/8 [==============================] - 0s 4ms/step - loss: 0.3894 - accuracy: 0.8471\n",
            "Epoch 183/300\n",
            "8/8 [==============================] - 0s 2ms/step - loss: 0.3870 - accuracy: 0.8430\n",
            "Epoch 184/300\n",
            "8/8 [==============================] - 0s 2ms/step - loss: 0.3916 - accuracy: 0.8264\n",
            "Epoch 185/300\n",
            "8/8 [==============================] - 0s 4ms/step - loss: 0.4010 - accuracy: 0.8347\n",
            "Epoch 186/300\n",
            "8/8 [==============================] - 0s 2ms/step - loss: 0.3917 - accuracy: 0.8306\n",
            "Epoch 187/300\n",
            "8/8 [==============================] - 0s 4ms/step - loss: 0.3884 - accuracy: 0.8347\n",
            "Epoch 188/300\n",
            "8/8 [==============================] - 0s 2ms/step - loss: 0.4013 - accuracy: 0.8347\n",
            "Epoch 189/300\n",
            "8/8 [==============================] - 0s 3ms/step - loss: 0.4291 - accuracy: 0.8058\n",
            "Epoch 190/300\n",
            "8/8 [==============================] - 0s 2ms/step - loss: 0.4147 - accuracy: 0.8017\n",
            "Epoch 191/300\n",
            "8/8 [==============================] - 0s 2ms/step - loss: 0.4072 - accuracy: 0.8306\n",
            "Epoch 192/300\n",
            "8/8 [==============================] - 0s 2ms/step - loss: 0.4127 - accuracy: 0.8017\n",
            "Epoch 193/300\n",
            "8/8 [==============================] - 0s 2ms/step - loss: 0.4088 - accuracy: 0.7934\n",
            "Epoch 194/300\n",
            "8/8 [==============================] - 0s 2ms/step - loss: 0.4179 - accuracy: 0.7934\n",
            "Epoch 195/300\n",
            "8/8 [==============================] - 0s 2ms/step - loss: 0.3867 - accuracy: 0.8430\n",
            "Epoch 196/300\n",
            "8/8 [==============================] - 0s 2ms/step - loss: 0.3900 - accuracy: 0.8347\n",
            "Epoch 197/300\n",
            "8/8 [==============================] - 0s 2ms/step - loss: 0.3929 - accuracy: 0.8182\n",
            "Epoch 198/300\n",
            "8/8 [==============================] - 0s 2ms/step - loss: 0.3906 - accuracy: 0.8388\n",
            "Epoch 199/300\n",
            "8/8 [==============================] - 0s 2ms/step - loss: 0.3843 - accuracy: 0.8471\n",
            "Epoch 200/300\n",
            "8/8 [==============================] - 0s 6ms/step - loss: 0.3856 - accuracy: 0.8306\n",
            "Epoch 201/300\n",
            "8/8 [==============================] - 0s 2ms/step - loss: 0.3808 - accuracy: 0.8595\n",
            "Epoch 202/300\n",
            "8/8 [==============================] - 0s 3ms/step - loss: 0.3846 - accuracy: 0.8388\n",
            "Epoch 203/300\n",
            "8/8 [==============================] - 0s 2ms/step - loss: 0.3809 - accuracy: 0.8471\n",
            "Epoch 204/300\n",
            "8/8 [==============================] - 0s 3ms/step - loss: 0.3799 - accuracy: 0.8471\n",
            "Epoch 205/300\n",
            "8/8 [==============================] - 0s 2ms/step - loss: 0.3897 - accuracy: 0.8347\n",
            "Epoch 206/300\n",
            "8/8 [==============================] - 0s 3ms/step - loss: 0.3810 - accuracy: 0.8512\n",
            "Epoch 207/300\n",
            "8/8 [==============================] - 0s 2ms/step - loss: 0.3784 - accuracy: 0.8388\n",
            "Epoch 208/300\n",
            "8/8 [==============================] - 0s 3ms/step - loss: 0.3818 - accuracy: 0.8347\n",
            "Epoch 209/300\n",
            "8/8 [==============================] - 0s 2ms/step - loss: 0.4019 - accuracy: 0.8140\n",
            "Epoch 210/300\n",
            "8/8 [==============================] - 0s 2ms/step - loss: 0.3989 - accuracy: 0.8306\n",
            "Epoch 211/300\n",
            "8/8 [==============================] - 0s 2ms/step - loss: 0.3920 - accuracy: 0.8471\n",
            "Epoch 212/300\n",
            "8/8 [==============================] - 0s 2ms/step - loss: 0.3865 - accuracy: 0.8347\n",
            "Epoch 213/300\n",
            "8/8 [==============================] - 0s 2ms/step - loss: 0.3798 - accuracy: 0.8595\n",
            "Epoch 214/300\n",
            "8/8 [==============================] - 0s 4ms/step - loss: 0.3776 - accuracy: 0.8347\n",
            "Epoch 215/300\n",
            "8/8 [==============================] - 0s 2ms/step - loss: 0.3757 - accuracy: 0.8430\n",
            "Epoch 216/300\n",
            "8/8 [==============================] - 0s 2ms/step - loss: 0.3792 - accuracy: 0.8595\n",
            "Epoch 217/300\n",
            "8/8 [==============================] - 0s 2ms/step - loss: 0.3833 - accuracy: 0.8388\n",
            "Epoch 218/300\n",
            "8/8 [==============================] - 0s 2ms/step - loss: 0.4028 - accuracy: 0.8264\n",
            "Epoch 219/300\n",
            "8/8 [==============================] - 0s 4ms/step - loss: 0.3959 - accuracy: 0.8058\n",
            "Epoch 220/300\n",
            "8/8 [==============================] - 0s 2ms/step - loss: 0.4080 - accuracy: 0.8140\n",
            "Epoch 221/300\n",
            "8/8 [==============================] - 0s 6ms/step - loss: 0.4082 - accuracy: 0.7975\n",
            "Epoch 222/300\n",
            "8/8 [==============================] - 0s 2ms/step - loss: 0.3853 - accuracy: 0.8264\n",
            "Epoch 223/300\n",
            "8/8 [==============================] - 0s 2ms/step - loss: 0.3946 - accuracy: 0.8182\n",
            "Epoch 224/300\n",
            "8/8 [==============================] - 0s 3ms/step - loss: 0.3826 - accuracy: 0.8388\n",
            "Epoch 225/300\n",
            "8/8 [==============================] - 0s 2ms/step - loss: 0.3938 - accuracy: 0.8264\n",
            "Epoch 226/300\n",
            "8/8 [==============================] - 0s 2ms/step - loss: 0.3836 - accuracy: 0.8471\n",
            "Epoch 227/300\n",
            "8/8 [==============================] - 0s 2ms/step - loss: 0.3739 - accuracy: 0.8554\n",
            "Epoch 228/300\n",
            "8/8 [==============================] - 0s 2ms/step - loss: 0.3761 - accuracy: 0.8595\n",
            "Epoch 229/300\n",
            "8/8 [==============================] - 0s 2ms/step - loss: 0.3727 - accuracy: 0.8512\n",
            "Epoch 230/300\n",
            "8/8 [==============================] - 0s 2ms/step - loss: 0.3731 - accuracy: 0.8554\n",
            "Epoch 231/300\n",
            "8/8 [==============================] - 0s 2ms/step - loss: 0.3749 - accuracy: 0.8306\n",
            "Epoch 232/300\n",
            "8/8 [==============================] - 0s 2ms/step - loss: 0.3836 - accuracy: 0.8347\n",
            "Epoch 233/300\n",
            "8/8 [==============================] - 0s 2ms/step - loss: 0.3908 - accuracy: 0.8347\n",
            "Epoch 234/300\n",
            "8/8 [==============================] - 0s 4ms/step - loss: 0.3751 - accuracy: 0.8471\n",
            "Epoch 235/300\n",
            "8/8 [==============================] - 0s 2ms/step - loss: 0.3724 - accuracy: 0.8595\n",
            "Epoch 236/300\n",
            "8/8 [==============================] - 0s 6ms/step - loss: 0.3718 - accuracy: 0.8512\n",
            "Epoch 237/300\n",
            "8/8 [==============================] - 0s 2ms/step - loss: 0.3773 - accuracy: 0.8512\n",
            "Epoch 238/300\n",
            "8/8 [==============================] - 0s 2ms/step - loss: 0.3721 - accuracy: 0.8471\n",
            "Epoch 239/300\n",
            "8/8 [==============================] - 0s 2ms/step - loss: 0.3819 - accuracy: 0.8223\n",
            "Epoch 240/300\n",
            "8/8 [==============================] - 0s 2ms/step - loss: 0.3691 - accuracy: 0.8430\n",
            "Epoch 241/300\n",
            "8/8 [==============================] - 0s 2ms/step - loss: 0.3881 - accuracy: 0.8223\n",
            "Epoch 242/300\n",
            "8/8 [==============================] - 0s 2ms/step - loss: 0.4061 - accuracy: 0.8182\n",
            "Epoch 243/300\n",
            "8/8 [==============================] - 0s 3ms/step - loss: 0.3919 - accuracy: 0.8223\n",
            "Epoch 244/300\n",
            "8/8 [==============================] - 0s 2ms/step - loss: 0.3769 - accuracy: 0.8347\n",
            "Epoch 245/300\n",
            "8/8 [==============================] - 0s 4ms/step - loss: 0.3957 - accuracy: 0.8099\n",
            "Epoch 246/300\n",
            "8/8 [==============================] - 0s 2ms/step - loss: 0.3881 - accuracy: 0.8347\n",
            "Epoch 247/300\n",
            "8/8 [==============================] - 0s 5ms/step - loss: 0.3765 - accuracy: 0.8430\n",
            "Epoch 248/300\n",
            "8/8 [==============================] - 0s 2ms/step - loss: 0.3873 - accuracy: 0.8182\n",
            "Epoch 249/300\n",
            "8/8 [==============================] - 0s 2ms/step - loss: 0.3975 - accuracy: 0.8140\n",
            "Epoch 250/300\n",
            "8/8 [==============================] - 0s 2ms/step - loss: 0.3848 - accuracy: 0.8182\n",
            "Epoch 251/300\n",
            "8/8 [==============================] - 0s 6ms/step - loss: 0.3654 - accuracy: 0.8430\n",
            "Epoch 252/300\n",
            "8/8 [==============================] - 0s 1ms/step - loss: 0.3960 - accuracy: 0.8306\n",
            "Epoch 253/300\n",
            "8/8 [==============================] - 0s 5ms/step - loss: 0.3773 - accuracy: 0.8512\n",
            "Epoch 254/300\n",
            "8/8 [==============================] - 0s 2ms/step - loss: 0.3740 - accuracy: 0.8223\n",
            "Epoch 255/300\n",
            "8/8 [==============================] - 0s 2ms/step - loss: 0.3892 - accuracy: 0.8306\n",
            "Epoch 256/300\n",
            "8/8 [==============================] - 0s 2ms/step - loss: 0.3824 - accuracy: 0.8388\n",
            "Epoch 257/300\n",
            "8/8 [==============================] - 0s 2ms/step - loss: 0.3906 - accuracy: 0.8347\n",
            "Epoch 258/300\n",
            "8/8 [==============================] - 0s 4ms/step - loss: 0.3738 - accuracy: 0.8388\n",
            "Epoch 259/300\n",
            "8/8 [==============================] - 0s 2ms/step - loss: 0.3775 - accuracy: 0.8306\n",
            "Epoch 260/300\n",
            "8/8 [==============================] - 0s 3ms/step - loss: 0.3676 - accuracy: 0.8512\n",
            "Epoch 261/300\n",
            "8/8 [==============================] - 0s 2ms/step - loss: 0.3691 - accuracy: 0.8554\n",
            "Epoch 262/300\n",
            "8/8 [==============================] - 0s 3ms/step - loss: 0.3698 - accuracy: 0.8347\n",
            "Epoch 263/300\n",
            "8/8 [==============================] - 0s 2ms/step - loss: 0.3700 - accuracy: 0.8554\n",
            "Epoch 264/300\n",
            "8/8 [==============================] - 0s 2ms/step - loss: 0.3673 - accuracy: 0.8471\n",
            "Epoch 265/300\n",
            "8/8 [==============================] - 0s 2ms/step - loss: 0.3712 - accuracy: 0.8554\n",
            "Epoch 266/300\n",
            "8/8 [==============================] - 0s 2ms/step - loss: 0.3668 - accuracy: 0.8471\n",
            "Epoch 267/300\n",
            "8/8 [==============================] - 0s 2ms/step - loss: 0.3685 - accuracy: 0.8512\n",
            "Epoch 268/300\n",
            "8/8 [==============================] - 0s 2ms/step - loss: 0.3671 - accuracy: 0.8471\n",
            "Epoch 269/300\n",
            "8/8 [==============================] - 0s 3ms/step - loss: 0.3746 - accuracy: 0.8347\n",
            "Epoch 270/300\n",
            "8/8 [==============================] - 0s 2ms/step - loss: 0.3830 - accuracy: 0.8223\n",
            "Epoch 271/300\n",
            "8/8 [==============================] - 0s 3ms/step - loss: 0.4074 - accuracy: 0.8099\n",
            "Epoch 272/300\n",
            "8/8 [==============================] - 0s 2ms/step - loss: 0.4098 - accuracy: 0.8347\n",
            "Epoch 273/300\n",
            "8/8 [==============================] - 0s 5ms/step - loss: 0.3885 - accuracy: 0.8223\n",
            "Epoch 274/300\n",
            "8/8 [==============================] - 0s 2ms/step - loss: 0.3802 - accuracy: 0.8347\n",
            "Epoch 275/300\n",
            "8/8 [==============================] - 0s 2ms/step - loss: 0.3788 - accuracy: 0.8512\n",
            "Epoch 276/300\n",
            "8/8 [==============================] - 0s 2ms/step - loss: 0.3739 - accuracy: 0.8388\n",
            "Epoch 277/300\n",
            "8/8 [==============================] - 0s 2ms/step - loss: 0.3812 - accuracy: 0.8471\n",
            "Epoch 278/300\n",
            "8/8 [==============================] - 0s 2ms/step - loss: 0.3653 - accuracy: 0.8512\n",
            "Epoch 279/300\n",
            "8/8 [==============================] - 0s 3ms/step - loss: 0.3680 - accuracy: 0.8471\n",
            "Epoch 280/300\n",
            "8/8 [==============================] - 0s 2ms/step - loss: 0.3688 - accuracy: 0.8471\n",
            "Epoch 281/300\n",
            "8/8 [==============================] - 0s 6ms/step - loss: 0.3705 - accuracy: 0.8388\n",
            "Epoch 282/300\n",
            "8/8 [==============================] - 0s 2ms/step - loss: 0.3801 - accuracy: 0.8388\n",
            "Epoch 283/300\n",
            "8/8 [==============================] - 0s 5ms/step - loss: 0.3805 - accuracy: 0.8471\n",
            "Epoch 284/300\n",
            "8/8 [==============================] - 0s 2ms/step - loss: 0.3841 - accuracy: 0.8388\n",
            "Epoch 285/300\n",
            "8/8 [==============================] - ETA: 0s - loss: 0.5459 - accuracy: 0.71 - 0s 2ms/step - loss: 0.3652 - accuracy: 0.8430\n",
            "Epoch 286/300\n",
            "8/8 [==============================] - 0s 2ms/step - loss: 0.3650 - accuracy: 0.8471\n",
            "Epoch 287/300\n",
            "8/8 [==============================] - 0s 2ms/step - loss: 0.3644 - accuracy: 0.8471\n",
            "Epoch 288/300\n",
            "8/8 [==============================] - 0s 3ms/step - loss: 0.3643 - accuracy: 0.8512\n",
            "Epoch 289/300\n",
            "8/8 [==============================] - 0s 2ms/step - loss: 0.3650 - accuracy: 0.8471\n",
            "Epoch 290/300\n",
            "8/8 [==============================] - 0s 2ms/step - loss: 0.3686 - accuracy: 0.8430\n",
            "Epoch 291/300\n",
            "8/8 [==============================] - 0s 2ms/step - loss: 0.3737 - accuracy: 0.8388\n",
            "Epoch 292/300\n",
            "8/8 [==============================] - 0s 2ms/step - loss: 0.3710 - accuracy: 0.8388\n",
            "Epoch 293/300\n",
            "8/8 [==============================] - 0s 2ms/step - loss: 0.3803 - accuracy: 0.8347\n",
            "Epoch 294/300\n",
            "8/8 [==============================] - 0s 2ms/step - loss: 0.3829 - accuracy: 0.8264\n",
            "Epoch 295/300\n",
            "8/8 [==============================] - 0s 2ms/step - loss: 0.3994 - accuracy: 0.8099\n",
            "Epoch 296/300\n",
            "8/8 [==============================] - 0s 2ms/step - loss: 0.3996 - accuracy: 0.7934\n",
            "Epoch 297/300\n",
            "8/8 [==============================] - 0s 6ms/step - loss: 0.3585 - accuracy: 0.8471\n",
            "Epoch 298/300\n",
            "8/8 [==============================] - 0s 2ms/step - loss: 0.3887 - accuracy: 0.8306\n",
            "Epoch 299/300\n",
            "8/8 [==============================] - 0s 3ms/step - loss: 0.3932 - accuracy: 0.8430\n",
            "Epoch 300/300\n",
            "8/8 [==============================] - 0s 2ms/step - loss: 0.3938 - accuracy: 0.8140\n"
          ],
          "name": "stdout"
        },
        {
          "output_type": "execute_result",
          "data": {
            "text/plain": [
              "<tensorflow.python.keras.callbacks.History at 0x2acc1038a60>"
            ]
          },
          "metadata": {
            "tags": []
          },
          "execution_count": 74
        }
      ]
    },
    {
      "cell_type": "code",
      "metadata": {
        "id": "aPFl5GZcfYc1"
      },
      "source": [
        "Y_pred_nn = model.predict(X_test)"
      ],
      "execution_count": null,
      "outputs": []
    },
    {
      "cell_type": "code",
      "metadata": {
        "id": "yZdA4pdAfYc1"
      },
      "source": [
        "Y_pred_nn_r = Y_pred_nn.round()"
      ],
      "execution_count": null,
      "outputs": []
    },
    {
      "cell_type": "code",
      "metadata": {
        "id": "2hnPMhejfYc1",
        "outputId": "610fbe20-0bf1-40e1-925a-e4581e0f986f"
      },
      "source": [
        "score_nn = round(accuracy_score(Y_pred_nn_r,Y_test)*100,2)\n",
        "\n",
        "print(\"The accuracy score achieved using Neural Network is: \"+str(score_nn)+\" %\")"
      ],
      "execution_count": null,
      "outputs": [
        {
          "output_type": "stream",
          "text": [
            "The accuracy score achieved using Neural Network is: 81.97 %\n"
          ],
          "name": "stdout"
        }
      ]
    },
    {
      "cell_type": "code",
      "metadata": {
        "id": "aU59D9PEfYc1",
        "outputId": "b45ed98e-6e63-4b0f-a914-3b4080e21c50"
      },
      "source": [
        "# after oversampling \n",
        "model.fit(X_train_ns,Y_train_ns,epochs=300)"
      ],
      "execution_count": null,
      "outputs": [
        {
          "output_type": "stream",
          "text": [
            "Epoch 1/300\n",
            "9/9 [==============================] - 0s 3ms/step - loss: 0.3448 - accuracy: 0.8511\n",
            "Epoch 2/300\n",
            "9/9 [==============================] - 0s 5ms/step - loss: 0.3434 - accuracy: 0.8435\n",
            "Epoch 3/300\n",
            "9/9 [==============================] - 0s 2ms/step - loss: 0.3572 - accuracy: 0.8397\n",
            "Epoch 4/300\n",
            "9/9 [==============================] - 0s 4ms/step - loss: 0.3411 - accuracy: 0.8550\n",
            "Epoch 5/300\n",
            "9/9 [==============================] - 0s 2ms/step - loss: 0.3681 - accuracy: 0.8359\n",
            "Epoch 6/300\n",
            "9/9 [==============================] - 0s 2ms/step - loss: 0.3575 - accuracy: 0.8435\n",
            "Epoch 7/300\n",
            "9/9 [==============================] - 0s 2ms/step - loss: 0.3470 - accuracy: 0.8550\n",
            "Epoch 8/300\n",
            "9/9 [==============================] - ETA: 0s - loss: 0.2883 - accuracy: 0.81 - 0s 2ms/step - loss: 0.3640 - accuracy: 0.8282\n",
            "Epoch 9/300\n",
            "9/9 [==============================] - 0s 4ms/step - loss: 0.3704 - accuracy: 0.8244\n",
            "Epoch 10/300\n",
            "9/9 [==============================] - 0s 2ms/step - loss: 0.3878 - accuracy: 0.8282\n",
            "Epoch 11/300\n",
            "9/9 [==============================] - 0s 3ms/step - loss: 0.3439 - accuracy: 0.8550\n",
            "Epoch 12/300\n",
            "9/9 [==============================] - ETA: 0s - loss: 0.2877 - accuracy: 0.84 - 0s 3ms/step - loss: 0.3501 - accuracy: 0.8321\n",
            "Epoch 13/300\n",
            "9/9 [==============================] - 0s 4ms/step - loss: 0.3404 - accuracy: 0.8550\n",
            "Epoch 14/300\n",
            "9/9 [==============================] - 0s 2ms/step - loss: 0.3459 - accuracy: 0.8511\n",
            "Epoch 15/300\n",
            "9/9 [==============================] - 0s 2ms/step - loss: 0.3549 - accuracy: 0.8588\n",
            "Epoch 16/300\n",
            "9/9 [==============================] - 0s 2ms/step - loss: 0.3478 - accuracy: 0.8473\n",
            "Epoch 17/300\n",
            "9/9 [==============================] - 0s 2ms/step - loss: 0.3512 - accuracy: 0.8397\n",
            "Epoch 18/300\n",
            "9/9 [==============================] - 0s 4ms/step - loss: 0.3450 - accuracy: 0.8435\n",
            "Epoch 19/300\n",
            "9/9 [==============================] - 0s 2ms/step - loss: 0.3411 - accuracy: 0.8550\n",
            "Epoch 20/300\n",
            "9/9 [==============================] - 0s 5ms/step - loss: 0.3434 - accuracy: 0.8550\n",
            "Epoch 21/300\n",
            "9/9 [==============================] - 0s 2ms/step - loss: 0.3704 - accuracy: 0.8359\n",
            "Epoch 22/300\n",
            "9/9 [==============================] - 0s 4ms/step - loss: 0.3557 - accuracy: 0.8473\n",
            "Epoch 23/300\n",
            "9/9 [==============================] - 0s 2ms/step - loss: 0.3470 - accuracy: 0.8435\n",
            "Epoch 24/300\n",
            "9/9 [==============================] - 0s 3ms/step - loss: 0.3432 - accuracy: 0.8473\n",
            "Epoch 25/300\n",
            "9/9 [==============================] - 0s 2ms/step - loss: 0.3476 - accuracy: 0.8511\n",
            "Epoch 26/300\n",
            "9/9 [==============================] - 0s 3ms/step - loss: 0.3522 - accuracy: 0.8511\n",
            "Epoch 27/300\n",
            "9/9 [==============================] - 0s 2ms/step - loss: 0.3522 - accuracy: 0.8435\n",
            "Epoch 28/300\n",
            "9/9 [==============================] - 0s 2ms/step - loss: 0.3619 - accuracy: 0.8435\n",
            "Epoch 29/300\n",
            "9/9 [==============================] - 0s 2ms/step - loss: 0.3486 - accuracy: 0.8435\n",
            "Epoch 30/300\n",
            "9/9 [==============================] - 0s 2ms/step - loss: 0.3431 - accuracy: 0.8473\n",
            "Epoch 31/300\n",
            "9/9 [==============================] - 0s 7ms/step - loss: 0.3429 - accuracy: 0.8550\n",
            "Epoch 32/300\n",
            "9/9 [==============================] - 0s 3ms/step - loss: 0.3421 - accuracy: 0.8435\n",
            "Epoch 33/300\n",
            "9/9 [==============================] - 0s 2ms/step - loss: 0.3593 - accuracy: 0.8397\n",
            "Epoch 34/300\n",
            "9/9 [==============================] - 0s 2ms/step - loss: 0.3451 - accuracy: 0.8473\n",
            "Epoch 35/300\n",
            "9/9 [==============================] - 0s 6ms/step - loss: 0.3442 - accuracy: 0.8588\n",
            "Epoch 36/300\n",
            "9/9 [==============================] - 0s 2ms/step - loss: 0.3448 - accuracy: 0.8511\n",
            "Epoch 37/300\n",
            "9/9 [==============================] - 0s 4ms/step - loss: 0.3454 - accuracy: 0.8550\n",
            "Epoch 38/300\n",
            "9/9 [==============================] - 0s 2ms/step - loss: 0.3480 - accuracy: 0.8435\n",
            "Epoch 39/300\n",
            "9/9 [==============================] - 0s 2ms/step - loss: 0.3427 - accuracy: 0.8473\n",
            "Epoch 40/300\n",
            "9/9 [==============================] - 0s 2ms/step - loss: 0.3392 - accuracy: 0.8550\n",
            "Epoch 41/300\n",
            "9/9 [==============================] - 0s 6ms/step - loss: 0.3452 - accuracy: 0.8473\n",
            "Epoch 42/300\n",
            "9/9 [==============================] - 0s 2ms/step - loss: 0.3456 - accuracy: 0.8588\n",
            "Epoch 43/300\n",
            "9/9 [==============================] - 0s 2ms/step - loss: 0.3492 - accuracy: 0.8321\n",
            "Epoch 44/300\n",
            "9/9 [==============================] - 0s 2ms/step - loss: 0.3622 - accuracy: 0.8397\n",
            "Epoch 45/300\n",
            "9/9 [==============================] - 0s 4ms/step - loss: 0.3784 - accuracy: 0.8321\n",
            "Epoch 46/300\n",
            "9/9 [==============================] - 0s 2ms/step - loss: 0.3666 - accuracy: 0.8321\n",
            "Epoch 47/300\n",
            "9/9 [==============================] - 0s 3ms/step - loss: 0.3402 - accuracy: 0.8359\n",
            "Epoch 48/300\n",
            "9/9 [==============================] - 0s 2ms/step - loss: 0.3639 - accuracy: 0.8244\n",
            "Epoch 49/300\n",
            "9/9 [==============================] - 0s 4ms/step - loss: 0.3473 - accuracy: 0.8511\n",
            "Epoch 50/300\n",
            "9/9 [==============================] - 0s 2ms/step - loss: 0.3414 - accuracy: 0.8550\n",
            "Epoch 51/300\n",
            "9/9 [==============================] - 0s 4ms/step - loss: 0.3452 - accuracy: 0.8550\n",
            "Epoch 52/300\n",
            "9/9 [==============================] - 0s 2ms/step - loss: 0.3531 - accuracy: 0.8511\n",
            "Epoch 53/300\n",
            "9/9 [==============================] - 0s 3ms/step - loss: 0.3408 - accuracy: 0.8473\n",
            "Epoch 54/300\n",
            "9/9 [==============================] - 0s 2ms/step - loss: 0.3690 - accuracy: 0.8321\n",
            "Epoch 55/300\n",
            "9/9 [==============================] - 0s 2ms/step - loss: 0.3539 - accuracy: 0.8397\n",
            "Epoch 56/300\n",
            "9/9 [==============================] - 0s 5ms/step - loss: 0.3402 - accuracy: 0.8473\n",
            "Epoch 57/300\n",
            "9/9 [==============================] - 0s 2ms/step - loss: 0.3447 - accuracy: 0.8473\n",
            "Epoch 58/300\n",
            "9/9 [==============================] - 0s 2ms/step - loss: 0.3553 - accuracy: 0.8473\n",
            "Epoch 59/300\n",
            "9/9 [==============================] - 0s 2ms/step - loss: 0.3490 - accuracy: 0.8435\n",
            "Epoch 60/300\n",
            "9/9 [==============================] - 0s 2ms/step - loss: 0.3456 - accuracy: 0.8473\n",
            "Epoch 61/300\n",
            "9/9 [==============================] - 0s 2ms/step - loss: 0.3476 - accuracy: 0.8435\n",
            "Epoch 62/300\n",
            "9/9 [==============================] - 0s 1ms/step - loss: 0.3488 - accuracy: 0.8550\n",
            "Epoch 63/300\n",
            "9/9 [==============================] - 0s 6ms/step - loss: 0.3539 - accuracy: 0.8397\n",
            "Epoch 64/300\n",
            "9/9 [==============================] - 0s 2ms/step - loss: 0.3799 - accuracy: 0.8321\n",
            "Epoch 65/300\n",
            "9/9 [==============================] - 0s 2ms/step - loss: 0.3604 - accuracy: 0.8321\n",
            "Epoch 66/300\n",
            "9/9 [==============================] - 0s 2ms/step - loss: 0.3452 - accuracy: 0.8511\n",
            "Epoch 67/300\n",
            "9/9 [==============================] - 0s 3ms/step - loss: 0.3410 - accuracy: 0.8473\n",
            "Epoch 68/300\n",
            "9/9 [==============================] - 0s 2ms/step - loss: 0.3448 - accuracy: 0.8511\n",
            "Epoch 69/300\n",
            "9/9 [==============================] - 0s 2ms/step - loss: 0.3391 - accuracy: 0.8473\n",
            "Epoch 70/300\n",
            "9/9 [==============================] - 0s 2ms/step - loss: 0.3414 - accuracy: 0.8473\n",
            "Epoch 71/300\n",
            "9/9 [==============================] - ETA: 0s - loss: 0.2637 - accuracy: 0.90 - 0s 2ms/step - loss: 0.3454 - accuracy: 0.8435\n",
            "Epoch 72/300\n",
            "9/9 [==============================] - 0s 2ms/step - loss: 0.3544 - accuracy: 0.8473\n",
            "Epoch 73/300\n",
            "9/9 [==============================] - 0s 2ms/step - loss: 0.3848 - accuracy: 0.8130\n",
            "Epoch 74/300\n",
            "9/9 [==============================] - 0s 2ms/step - loss: 0.3430 - accuracy: 0.8397\n",
            "Epoch 75/300\n",
            "9/9 [==============================] - 0s 2ms/step - loss: 0.3427 - accuracy: 0.8550\n",
            "Epoch 76/300\n",
            "9/9 [==============================] - 0s 4ms/step - loss: 0.3561 - accuracy: 0.8359\n",
            "Epoch 77/300\n",
            "9/9 [==============================] - 0s 2ms/step - loss: 0.3533 - accuracy: 0.8435\n",
            "Epoch 78/300\n",
            "9/9 [==============================] - 0s 4ms/step - loss: 0.3738 - accuracy: 0.8130\n",
            "Epoch 79/300\n",
            "9/9 [==============================] - 0s 2ms/step - loss: 0.3402 - accuracy: 0.8397\n",
            "Epoch 80/300\n",
            "9/9 [==============================] - 0s 6ms/step - loss: 0.3518 - accuracy: 0.8397\n",
            "Epoch 81/300\n",
            "9/9 [==============================] - 0s 2ms/step - loss: 0.3542 - accuracy: 0.8435\n",
            "Epoch 82/300\n",
            "9/9 [==============================] - 0s 3ms/step - loss: 0.3415 - accuracy: 0.8511\n",
            "Epoch 83/300\n",
            "9/9 [==============================] - 0s 2ms/step - loss: 0.3540 - accuracy: 0.8321\n",
            "Epoch 84/300\n",
            "9/9 [==============================] - 0s 3ms/step - loss: 0.3489 - accuracy: 0.8550\n",
            "Epoch 85/300\n",
            "9/9 [==============================] - 0s 2ms/step - loss: 0.3434 - accuracy: 0.8511\n",
            "Epoch 86/300\n",
            "9/9 [==============================] - 0s 5ms/step - loss: 0.3579 - accuracy: 0.8473\n",
            "Epoch 87/300\n",
            "9/9 [==============================] - 0s 2ms/step - loss: 0.3458 - accuracy: 0.8511\n",
            "Epoch 88/300\n",
            "9/9 [==============================] - 0s 6ms/step - loss: 0.3486 - accuracy: 0.8435\n",
            "Epoch 89/300\n",
            "9/9 [==============================] - 0s 2ms/step - loss: 0.3479 - accuracy: 0.8473\n",
            "Epoch 90/300\n",
            "9/9 [==============================] - 0s 2ms/step - loss: 0.3535 - accuracy: 0.8435\n",
            "Epoch 91/300\n",
            "9/9 [==============================] - 0s 2ms/step - loss: 0.3420 - accuracy: 0.8473\n",
            "Epoch 92/300\n",
            "9/9 [==============================] - 0s 4ms/step - loss: 0.3433 - accuracy: 0.8511\n",
            "Epoch 93/300\n",
            "9/9 [==============================] - 0s 2ms/step - loss: 0.3475 - accuracy: 0.8359\n",
            "Epoch 94/300\n",
            "9/9 [==============================] - 0s 2ms/step - loss: 0.3591 - accuracy: 0.8244\n",
            "Epoch 95/300\n",
            "9/9 [==============================] - 0s 2ms/step - loss: 0.3501 - accuracy: 0.8397\n",
            "Epoch 96/300\n",
            "9/9 [==============================] - 0s 3ms/step - loss: 0.3568 - accuracy: 0.8359\n",
            "Epoch 97/300\n",
            "9/9 [==============================] - 0s 2ms/step - loss: 0.3502 - accuracy: 0.8473\n",
            "Epoch 98/300\n",
            "9/9 [==============================] - 0s 5ms/step - loss: 0.3441 - accuracy: 0.8397\n",
            "Epoch 99/300\n",
            "9/9 [==============================] - 0s 2ms/step - loss: 0.3474 - accuracy: 0.8473\n",
            "Epoch 100/300\n",
            "9/9 [==============================] - 0s 5ms/step - loss: 0.3432 - accuracy: 0.8435\n",
            "Epoch 101/300\n",
            "9/9 [==============================] - 0s 2ms/step - loss: 0.3449 - accuracy: 0.8473\n",
            "Epoch 102/300\n",
            "9/9 [==============================] - 0s 3ms/step - loss: 0.3530 - accuracy: 0.8321\n",
            "Epoch 103/300\n",
            "9/9 [==============================] - 0s 2ms/step - loss: 0.3560 - accuracy: 0.8282\n",
            "Epoch 104/300\n",
            "9/9 [==============================] - 0s 2ms/step - loss: 0.3488 - accuracy: 0.8282\n",
            "Epoch 105/300\n",
            "9/9 [==============================] - 0s 2ms/step - loss: 0.3619 - accuracy: 0.8321\n",
            "Epoch 106/300\n",
            "9/9 [==============================] - 0s 2ms/step - loss: 0.3644 - accuracy: 0.8359\n",
            "Epoch 107/300\n",
            "9/9 [==============================] - 0s 2ms/step - loss: 0.3551 - accuracy: 0.8321\n",
            "Epoch 108/300\n",
            "9/9 [==============================] - 0s 2ms/step - loss: 0.3435 - accuracy: 0.8359\n",
            "Epoch 109/300\n",
            "9/9 [==============================] - 0s 4ms/step - loss: 0.3480 - accuracy: 0.8359\n",
            "Epoch 110/300\n",
            "9/9 [==============================] - 0s 2ms/step - loss: 0.3463 - accuracy: 0.8435\n",
            "Epoch 111/300\n",
            "9/9 [==============================] - 0s 2ms/step - loss: 0.3399 - accuracy: 0.8435\n",
            "Epoch 112/300\n",
            "9/9 [==============================] - 0s 2ms/step - loss: 0.3403 - accuracy: 0.8321\n",
            "Epoch 113/300\n",
            "9/9 [==============================] - 0s 3ms/step - loss: 0.3495 - accuracy: 0.8435\n",
            "Epoch 114/300\n",
            "9/9 [==============================] - 0s 1ms/step - loss: 0.3459 - accuracy: 0.8359\n",
            "Epoch 115/300\n",
            "9/9 [==============================] - 0s 2ms/step - loss: 0.3487 - accuracy: 0.8435\n",
            "Epoch 116/300\n",
            "9/9 [==============================] - 0s 2ms/step - loss: 0.3436 - accuracy: 0.8435\n",
            "Epoch 117/300\n",
            "9/9 [==============================] - 0s 2ms/step - loss: 0.3534 - accuracy: 0.8435\n",
            "Epoch 118/300\n",
            "9/9 [==============================] - 0s 2ms/step - loss: 0.3463 - accuracy: 0.8435\n",
            "Epoch 119/300\n",
            "9/9 [==============================] - 0s 3ms/step - loss: 0.3482 - accuracy: 0.8473\n",
            "Epoch 120/300\n",
            "9/9 [==============================] - 0s 2ms/step - loss: 0.3421 - accuracy: 0.8511\n",
            "Epoch 121/300\n",
            "9/9 [==============================] - 0s 3ms/step - loss: 0.3559 - accuracy: 0.8435\n",
            "Epoch 122/300\n",
            "9/9 [==============================] - 0s 2ms/step - loss: 0.3611 - accuracy: 0.8282\n",
            "Epoch 123/300\n",
            "9/9 [==============================] - 0s 4ms/step - loss: 0.3477 - accuracy: 0.8473\n",
            "Epoch 124/300\n",
            "9/9 [==============================] - 0s 2ms/step - loss: 0.3486 - accuracy: 0.8435\n",
            "Epoch 125/300\n",
            "9/9 [==============================] - 0s 3ms/step - loss: 0.3430 - accuracy: 0.8550\n",
            "Epoch 126/300\n",
            "9/9 [==============================] - ETA: 0s - loss: 0.2531 - accuracy: 0.87 - 0s 2ms/step - loss: 0.3428 - accuracy: 0.8511\n",
            "Epoch 127/300\n",
            "9/9 [==============================] - 0s 2ms/step - loss: 0.3466 - accuracy: 0.8435\n",
            "Epoch 128/300\n",
            "9/9 [==============================] - 0s 6ms/step - loss: 0.3441 - accuracy: 0.8511\n",
            "Epoch 129/300\n",
            "9/9 [==============================] - 0s 2ms/step - loss: 0.3407 - accuracy: 0.8435\n",
            "Epoch 130/300\n",
            "9/9 [==============================] - ETA: 0s - loss: 0.2973 - accuracy: 0.90 - 0s 4ms/step - loss: 0.3686 - accuracy: 0.8511\n",
            "Epoch 131/300\n",
            "9/9 [==============================] - 0s 2ms/step - loss: 0.3545 - accuracy: 0.8359\n",
            "Epoch 132/300\n",
            "9/9 [==============================] - 0s 5ms/step - loss: 0.3509 - accuracy: 0.8397\n",
            "Epoch 133/300\n",
            "9/9 [==============================] - 0s 2ms/step - loss: 0.3509 - accuracy: 0.8511\n",
            "Epoch 134/300\n",
            "9/9 [==============================] - 0s 2ms/step - loss: 0.3419 - accuracy: 0.8588\n",
            "Epoch 135/300\n",
            "9/9 [==============================] - ETA: 0s - loss: 0.4965 - accuracy: 0.81 - 0s 2ms/step - loss: 0.3464 - accuracy: 0.8473\n",
            "Epoch 136/300\n",
            "9/9 [==============================] - 0s 2ms/step - loss: 0.3446 - accuracy: 0.8473\n",
            "Epoch 137/300\n",
            "9/9 [==============================] - 0s 2ms/step - loss: 0.3608 - accuracy: 0.8168\n",
            "Epoch 138/300\n",
            "9/9 [==============================] - 0s 2ms/step - loss: 0.3531 - accuracy: 0.8397\n",
            "Epoch 139/300\n",
            "9/9 [==============================] - 0s 2ms/step - loss: 0.3455 - accuracy: 0.8550\n",
            "Epoch 140/300\n",
            "9/9 [==============================] - 0s 3ms/step - loss: 0.3437 - accuracy: 0.8511\n",
            "Epoch 141/300\n",
            "9/9 [==============================] - 0s 2ms/step - loss: 0.3521 - accuracy: 0.8397\n",
            "Epoch 142/300\n",
            "9/9 [==============================] - ETA: 0s - loss: 0.2529 - accuracy: 0.90 - 0s 3ms/step - loss: 0.3501 - accuracy: 0.8321\n",
            "Epoch 143/300\n",
            "9/9 [==============================] - 0s 2ms/step - loss: 0.3515 - accuracy: 0.8397\n",
            "Epoch 144/300\n",
            "9/9 [==============================] - 0s 3ms/step - loss: 0.3714 - accuracy: 0.8282\n",
            "Epoch 145/300\n",
            "9/9 [==============================] - 0s 2ms/step - loss: 0.3428 - accuracy: 0.8473\n",
            "Epoch 146/300\n",
            "9/9 [==============================] - 0s 4ms/step - loss: 0.3446 - accuracy: 0.8473\n",
            "Epoch 147/300\n",
            "9/9 [==============================] - ETA: 0s - loss: 0.3436 - accuracy: 0.81 - 0s 2ms/step - loss: 0.3439 - accuracy: 0.8359\n",
            "Epoch 148/300\n",
            "9/9 [==============================] - 0s 3ms/step - loss: 0.3412 - accuracy: 0.8550\n",
            "Epoch 149/300\n",
            "9/9 [==============================] - 0s 2ms/step - loss: 0.3438 - accuracy: 0.8435\n",
            "Epoch 150/300\n",
            "9/9 [==============================] - 0s 4ms/step - loss: 0.3453 - accuracy: 0.8397\n",
            "Epoch 151/300\n",
            "9/9 [==============================] - 0s 2ms/step - loss: 0.3586 - accuracy: 0.8473\n",
            "Epoch 152/300\n",
            "9/9 [==============================] - 0s 5ms/step - loss: 0.3585 - accuracy: 0.8359\n",
            "Epoch 153/300\n",
            "9/9 [==============================] - 0s 2ms/step - loss: 0.3428 - accuracy: 0.8511\n",
            "Epoch 154/300\n",
            "9/9 [==============================] - 0s 2ms/step - loss: 0.3415 - accuracy: 0.8435\n",
            "Epoch 155/300\n",
            "9/9 [==============================] - 0s 2ms/step - loss: 0.3410 - accuracy: 0.8550\n",
            "Epoch 156/300\n",
            "9/9 [==============================] - 0s 2ms/step - loss: 0.3430 - accuracy: 0.8397\n",
            "Epoch 157/300\n",
            "9/9 [==============================] - 0s 5ms/step - loss: 0.3419 - accuracy: 0.8511\n",
            "Epoch 158/300\n",
            "9/9 [==============================] - 0s 2ms/step - loss: 0.3663 - accuracy: 0.8321\n",
            "Epoch 159/300\n",
            "9/9 [==============================] - 0s 2ms/step - loss: 0.3545 - accuracy: 0.8435\n",
            "Epoch 160/300\n",
            "9/9 [==============================] - 0s 2ms/step - loss: 0.3487 - accuracy: 0.8435\n",
            "Epoch 161/300\n",
            "9/9 [==============================] - 0s 4ms/step - loss: 0.3520 - accuracy: 0.8321\n",
            "Epoch 162/300\n",
            "9/9 [==============================] - 0s 2ms/step - loss: 0.3849 - accuracy: 0.8282\n",
            "Epoch 163/300\n",
            "9/9 [==============================] - 0s 3ms/step - loss: 0.3610 - accuracy: 0.8397\n",
            "Epoch 164/300\n",
            "9/9 [==============================] - 0s 2ms/step - loss: 0.3417 - accuracy: 0.8435\n",
            "Epoch 165/300\n",
            "9/9 [==============================] - 0s 6ms/step - loss: 0.3572 - accuracy: 0.8282\n",
            "Epoch 166/300\n",
            "9/9 [==============================] - 0s 2ms/step - loss: 0.3470 - accuracy: 0.8397\n",
            "Epoch 167/300\n",
            "9/9 [==============================] - 0s 5ms/step - loss: 0.3420 - accuracy: 0.8511\n",
            "Epoch 168/300\n",
            "9/9 [==============================] - 0s 2ms/step - loss: 0.3452 - accuracy: 0.8321\n",
            "Epoch 169/300\n",
            "9/9 [==============================] - 0s 2ms/step - loss: 0.3565 - accuracy: 0.8473\n",
            "Epoch 170/300\n",
            "9/9 [==============================] - 0s 2ms/step - loss: 0.3791 - accuracy: 0.8206\n",
            "Epoch 171/300\n",
            "9/9 [==============================] - 0s 2ms/step - loss: 0.3867 - accuracy: 0.8130\n",
            "Epoch 172/300\n",
            "9/9 [==============================] - 0s 2ms/step - loss: 0.3975 - accuracy: 0.8015\n",
            "Epoch 173/300\n",
            "9/9 [==============================] - 0s 3ms/step - loss: 0.3713 - accuracy: 0.8359\n",
            "Epoch 174/300\n",
            "9/9 [==============================] - 0s 2ms/step - loss: 0.3585 - accuracy: 0.8282\n",
            "Epoch 175/300\n",
            "9/9 [==============================] - 0s 6ms/step - loss: 0.3601 - accuracy: 0.8244\n",
            "Epoch 176/300\n",
            "9/9 [==============================] - 0s 2ms/step - loss: 0.3438 - accuracy: 0.8435\n",
            "Epoch 177/300\n",
            "9/9 [==============================] - 0s 7ms/step - loss: 0.3624 - accuracy: 0.8397\n",
            "Epoch 178/300\n",
            "9/9 [==============================] - 0s 2ms/step - loss: 0.3584 - accuracy: 0.8435\n",
            "Epoch 179/300\n",
            "9/9 [==============================] - 0s 2ms/step - loss: 0.3568 - accuracy: 0.8244\n",
            "Epoch 180/300\n",
            "9/9 [==============================] - 0s 2ms/step - loss: 0.3649 - accuracy: 0.8321\n",
            "Epoch 181/300\n",
            "9/9 [==============================] - 0s 2ms/step - loss: 0.3465 - accuracy: 0.8473\n",
            "Epoch 182/300\n",
            "9/9 [==============================] - 0s 2ms/step - loss: 0.3496 - accuracy: 0.8359\n",
            "Epoch 183/300\n",
            "9/9 [==============================] - 0s 2ms/step - loss: 0.3712 - accuracy: 0.8168\n",
            "Epoch 184/300\n",
            "9/9 [==============================] - 0s 3ms/step - loss: 0.3449 - accuracy: 0.8473\n",
            "Epoch 185/300\n",
            "9/9 [==============================] - 0s 2ms/step - loss: 0.3457 - accuracy: 0.8511\n",
            "Epoch 186/300\n",
            "9/9 [==============================] - 0s 4ms/step - loss: 0.3487 - accuracy: 0.8473\n",
            "Epoch 187/300\n",
            "9/9 [==============================] - 0s 2ms/step - loss: 0.3468 - accuracy: 0.8588\n",
            "Epoch 188/300\n",
            "9/9 [==============================] - 0s 4ms/step - loss: 0.3469 - accuracy: 0.8511\n",
            "Epoch 189/300\n",
            "9/9 [==============================] - 0s 2ms/step - loss: 0.4066 - accuracy: 0.7901\n",
            "Epoch 190/300\n",
            "9/9 [==============================] - 0s 5ms/step - loss: 0.3881 - accuracy: 0.8359\n",
            "Epoch 191/300\n",
            "9/9 [==============================] - 0s 2ms/step - loss: 0.4077 - accuracy: 0.8206\n",
            "Epoch 192/300\n",
            "9/9 [==============================] - 0s 4ms/step - loss: 0.3862 - accuracy: 0.8282\n",
            "Epoch 193/300\n",
            "9/9 [==============================] - 0s 2ms/step - loss: 0.3892 - accuracy: 0.8206\n",
            "Epoch 194/300\n",
            "9/9 [==============================] - 0s 4ms/step - loss: 0.3577 - accuracy: 0.8397\n",
            "Epoch 195/300\n",
            "9/9 [==============================] - 0s 2ms/step - loss: 0.3716 - accuracy: 0.8282\n",
            "Epoch 196/300\n",
            "9/9 [==============================] - 0s 3ms/step - loss: 0.3532 - accuracy: 0.8321\n",
            "Epoch 197/300\n",
            "9/9 [==============================] - 0s 2ms/step - loss: 0.3476 - accuracy: 0.8397\n",
            "Epoch 198/300\n",
            "9/9 [==============================] - 0s 2ms/step - loss: 0.3546 - accuracy: 0.8321\n",
            "Epoch 199/300\n",
            "9/9 [==============================] - 0s 2ms/step - loss: 0.3867 - accuracy: 0.8015\n",
            "Epoch 200/300\n",
            "9/9 [==============================] - 0s 3ms/step - loss: 0.3486 - accuracy: 0.8473\n",
            "Epoch 201/300\n",
            "9/9 [==============================] - 0s 2ms/step - loss: 0.3610 - accuracy: 0.8321\n",
            "Epoch 202/300\n",
            "9/9 [==============================] - 0s 4ms/step - loss: 0.3407 - accuracy: 0.8473\n",
            "Epoch 203/300\n",
            "9/9 [==============================] - 0s 2ms/step - loss: 0.3409 - accuracy: 0.8511\n",
            "Epoch 204/300\n",
            "9/9 [==============================] - 0s 5ms/step - loss: 0.3461 - accuracy: 0.8397\n",
            "Epoch 205/300\n",
            "9/9 [==============================] - 0s 2ms/step - loss: 0.3550 - accuracy: 0.8435\n",
            "Epoch 206/300\n",
            "9/9 [==============================] - 0s 2ms/step - loss: 0.3683 - accuracy: 0.8168\n",
            "Epoch 207/300\n",
            "9/9 [==============================] - 0s 2ms/step - loss: 0.3660 - accuracy: 0.8282\n",
            "Epoch 208/300\n",
            "9/9 [==============================] - 0s 2ms/step - loss: 0.3553 - accuracy: 0.8550\n",
            "Epoch 209/300\n",
            "9/9 [==============================] - 0s 2ms/step - loss: 0.3534 - accuracy: 0.8473\n",
            "Epoch 210/300\n",
            "9/9 [==============================] - 0s 2ms/step - loss: 0.3449 - accuracy: 0.8473\n",
            "Epoch 211/300\n",
            "9/9 [==============================] - 0s 5ms/step - loss: 0.3478 - accuracy: 0.8435\n",
            "Epoch 212/300\n",
            "9/9 [==============================] - 0s 2ms/step - loss: 0.3513 - accuracy: 0.8321\n",
            "Epoch 213/300\n",
            "9/9 [==============================] - 0s 3ms/step - loss: 0.3488 - accuracy: 0.8550\n",
            "Epoch 214/300\n",
            "9/9 [==============================] - 0s 2ms/step - loss: 0.3405 - accuracy: 0.8626\n",
            "Epoch 215/300\n",
            "9/9 [==============================] - 0s 5ms/step - loss: 0.3398 - accuracy: 0.8435\n",
            "Epoch 216/300\n",
            "9/9 [==============================] - 0s 2ms/step - loss: 0.3441 - accuracy: 0.8588\n",
            "Epoch 217/300\n",
            "9/9 [==============================] - 0s 3ms/step - loss: 0.3452 - accuracy: 0.8511\n",
            "Epoch 218/300\n",
            "9/9 [==============================] - 0s 2ms/step - loss: 0.3413 - accuracy: 0.8473\n",
            "Epoch 219/300\n",
            "9/9 [==============================] - 0s 2ms/step - loss: 0.3422 - accuracy: 0.8588\n",
            "Epoch 220/300\n",
            "9/9 [==============================] - 0s 2ms/step - loss: 0.3768 - accuracy: 0.8282\n",
            "Epoch 221/300\n",
            "9/9 [==============================] - ETA: 0s - loss: 0.4391 - accuracy: 0.87 - 0s 5ms/step - loss: 0.3634 - accuracy: 0.8397\n",
            "Epoch 222/300\n",
            "9/9 [==============================] - 0s 2ms/step - loss: 0.3462 - accuracy: 0.8397\n",
            "Epoch 223/300\n",
            "9/9 [==============================] - 0s 2ms/step - loss: 0.3491 - accuracy: 0.8435\n",
            "Epoch 224/300\n",
            "9/9 [==============================] - 0s 5ms/step - loss: 0.3467 - accuracy: 0.8511\n",
            "Epoch 225/300\n",
            "9/9 [==============================] - 0s 2ms/step - loss: 0.3414 - accuracy: 0.8359\n",
            "Epoch 226/300\n",
            "9/9 [==============================] - 0s 2ms/step - loss: 0.3503 - accuracy: 0.8321\n",
            "Epoch 227/300\n",
            "9/9 [==============================] - 0s 2ms/step - loss: 0.3550 - accuracy: 0.8435\n",
            "Epoch 228/300\n",
            "9/9 [==============================] - 0s 4ms/step - loss: 0.3405 - accuracy: 0.8511\n",
            "Epoch 229/300\n",
            "9/9 [==============================] - 0s 2ms/step - loss: 0.3504 - accuracy: 0.8359\n",
            "Epoch 230/300\n",
            "9/9 [==============================] - 0s 5ms/step - loss: 0.3432 - accuracy: 0.8550\n",
            "Epoch 231/300\n",
            "9/9 [==============================] - 0s 2ms/step - loss: 0.3432 - accuracy: 0.8321\n",
            "Epoch 232/300\n",
            "9/9 [==============================] - 0s 3ms/step - loss: 0.3525 - accuracy: 0.8397\n",
            "Epoch 233/300\n",
            "9/9 [==============================] - 0s 2ms/step - loss: 0.3534 - accuracy: 0.8397\n",
            "Epoch 234/300\n",
            "9/9 [==============================] - 0s 4ms/step - loss: 0.3411 - accuracy: 0.8511\n",
            "Epoch 235/300\n",
            "9/9 [==============================] - 0s 2ms/step - loss: 0.3671 - accuracy: 0.8397\n",
            "Epoch 236/300\n",
            "9/9 [==============================] - 0s 5ms/step - loss: 0.3526 - accuracy: 0.8473\n",
            "Epoch 237/300\n",
            "9/9 [==============================] - 0s 2ms/step - loss: 0.3540 - accuracy: 0.8359\n",
            "Epoch 238/300\n",
            "9/9 [==============================] - 0s 2ms/step - loss: 0.3418 - accuracy: 0.8435\n",
            "Epoch 239/300\n",
            "9/9 [==============================] - 0s 2ms/step - loss: 0.3458 - accuracy: 0.8473\n",
            "Epoch 240/300\n",
            "9/9 [==============================] - 0s 2ms/step - loss: 0.3412 - accuracy: 0.8435\n",
            "Epoch 241/300\n",
            "9/9 [==============================] - 0s 2ms/step - loss: 0.3480 - accuracy: 0.8473\n",
            "Epoch 242/300\n",
            "9/9 [==============================] - 0s 2ms/step - loss: 0.3421 - accuracy: 0.8473\n",
            "Epoch 243/300\n",
            "9/9 [==============================] - 0s 3ms/step - loss: 0.3501 - accuracy: 0.8511\n",
            "Epoch 244/300\n",
            "9/9 [==============================] - 0s 2ms/step - loss: 0.3532 - accuracy: 0.8511\n",
            "Epoch 245/300\n",
            "9/9 [==============================] - 0s 2ms/step - loss: 0.3407 - accuracy: 0.8511\n",
            "Epoch 246/300\n",
            "9/9 [==============================] - 0s 2ms/step - loss: 0.3452 - accuracy: 0.8397\n",
            "Epoch 247/300\n",
            "9/9 [==============================] - 0s 3ms/step - loss: 0.3744 - accuracy: 0.8244\n",
            "Epoch 248/300\n",
            "9/9 [==============================] - 0s 2ms/step - loss: 0.3519 - accuracy: 0.8435\n",
            "Epoch 249/300\n",
            "9/9 [==============================] - 0s 5ms/step - loss: 0.3485 - accuracy: 0.8359\n",
            "Epoch 250/300\n",
            "9/9 [==============================] - 0s 2ms/step - loss: 0.3615 - accuracy: 0.8206\n",
            "Epoch 251/300\n",
            "9/9 [==============================] - 0s 3ms/step - loss: 0.3925 - accuracy: 0.8206\n",
            "Epoch 252/300\n",
            "9/9 [==============================] - 0s 2ms/step - loss: 0.3842 - accuracy: 0.8359\n",
            "Epoch 253/300\n",
            "9/9 [==============================] - 0s 4ms/step - loss: 0.3570 - accuracy: 0.8321\n",
            "Epoch 254/300\n",
            "9/9 [==============================] - 0s 2ms/step - loss: 0.3392 - accuracy: 0.8550\n",
            "Epoch 255/300\n",
            "9/9 [==============================] - 0s 4ms/step - loss: 0.3504 - accuracy: 0.8397\n",
            "Epoch 256/300\n",
            "9/9 [==============================] - 0s 2ms/step - loss: 0.3713 - accuracy: 0.8244\n",
            "Epoch 257/300\n",
            "9/9 [==============================] - 0s 4ms/step - loss: 0.3961 - accuracy: 0.8244\n",
            "Epoch 258/300\n",
            "9/9 [==============================] - 0s 2ms/step - loss: 0.3450 - accuracy: 0.8359\n",
            "Epoch 259/300\n",
            "9/9 [==============================] - 0s 2ms/step - loss: 0.3568 - accuracy: 0.8282\n",
            "Epoch 260/300\n",
            "9/9 [==============================] - 0s 2ms/step - loss: 0.3421 - accuracy: 0.8511\n",
            "Epoch 261/300\n",
            "9/9 [==============================] - 0s 2ms/step - loss: 0.3398 - accuracy: 0.8473\n",
            "Epoch 262/300\n",
            "9/9 [==============================] - 0s 2ms/step - loss: 0.3424 - accuracy: 0.8473\n",
            "Epoch 263/300\n",
            "9/9 [==============================] - 0s 2ms/step - loss: 0.3452 - accuracy: 0.8511\n",
            "Epoch 264/300\n",
            "9/9 [==============================] - 0s 2ms/step - loss: 0.3419 - accuracy: 0.8435\n",
            "Epoch 265/300\n",
            "9/9 [==============================] - 0s 2ms/step - loss: 0.3791 - accuracy: 0.8511\n",
            "Epoch 266/300\n",
            "9/9 [==============================] - 0s 2ms/step - loss: 0.3421 - accuracy: 0.8397\n",
            "Epoch 267/300\n",
            "9/9 [==============================] - 0s 2ms/step - loss: 0.3530 - accuracy: 0.8397\n",
            "Epoch 268/300\n",
            "9/9 [==============================] - 0s 2ms/step - loss: 0.3424 - accuracy: 0.8473\n",
            "Epoch 269/300\n",
            "9/9 [==============================] - 0s 2ms/step - loss: 0.3395 - accuracy: 0.8511\n",
            "Epoch 270/300\n",
            "9/9 [==============================] - 0s 2ms/step - loss: 0.3414 - accuracy: 0.8511\n",
            "Epoch 271/300\n",
            "9/9 [==============================] - 0s 2ms/step - loss: 0.3496 - accuracy: 0.8550\n",
            "Epoch 272/300\n",
            "9/9 [==============================] - 0s 4ms/step - loss: 0.3436 - accuracy: 0.8511\n",
            "Epoch 273/300\n",
            "9/9 [==============================] - 0s 2ms/step - loss: 0.3411 - accuracy: 0.8473\n",
            "Epoch 274/300\n",
            "9/9 [==============================] - 0s 3ms/step - loss: 0.3557 - accuracy: 0.8397\n",
            "Epoch 275/300\n",
            "9/9 [==============================] - 0s 2ms/step - loss: 0.3666 - accuracy: 0.8511\n",
            "Epoch 276/300\n",
            "9/9 [==============================] - 0s 3ms/step - loss: 0.3440 - accuracy: 0.8511\n",
            "Epoch 277/300\n",
            "9/9 [==============================] - 0s 2ms/step - loss: 0.3474 - accuracy: 0.8550\n",
            "Epoch 278/300\n",
            "9/9 [==============================] - 0s 4ms/step - loss: 0.3479 - accuracy: 0.8397\n",
            "Epoch 279/300\n",
            "9/9 [==============================] - 0s 2ms/step - loss: 0.3455 - accuracy: 0.8321\n",
            "Epoch 280/300\n",
            "9/9 [==============================] - 0s 4ms/step - loss: 0.3522 - accuracy: 0.8550\n",
            "Epoch 281/300\n",
            "9/9 [==============================] - 0s 2ms/step - loss: 0.3645 - accuracy: 0.8206\n",
            "Epoch 282/300\n",
            "9/9 [==============================] - 0s 4ms/step - loss: 0.3425 - accuracy: 0.8473\n",
            "Epoch 283/300\n",
            "9/9 [==============================] - 0s 2ms/step - loss: 0.3437 - accuracy: 0.8550\n",
            "Epoch 284/300\n",
            "9/9 [==============================] - 0s 4ms/step - loss: 0.3430 - accuracy: 0.8511\n",
            "Epoch 285/300\n",
            "9/9 [==============================] - 0s 2ms/step - loss: 0.3445 - accuracy: 0.8511\n",
            "Epoch 286/300\n",
            "9/9 [==============================] - 0s 2ms/step - loss: 0.3575 - accuracy: 0.8435\n",
            "Epoch 287/300\n",
            "9/9 [==============================] - 0s 2ms/step - loss: 0.3590 - accuracy: 0.8473\n",
            "Epoch 288/300\n",
            "9/9 [==============================] - 0s 2ms/step - loss: 0.3648 - accuracy: 0.8282\n",
            "Epoch 289/300\n",
            "9/9 [==============================] - 0s 2ms/step - loss: 0.3420 - accuracy: 0.8397\n",
            "Epoch 290/300\n",
            "9/9 [==============================] - 0s 2ms/step - loss: 0.3476 - accuracy: 0.8511\n",
            "Epoch 291/300\n",
            "9/9 [==============================] - 0s 4ms/step - loss: 0.3747 - accuracy: 0.8435\n",
            "Epoch 292/300\n",
            "9/9 [==============================] - 0s 2ms/step - loss: 0.4082 - accuracy: 0.7977\n",
            "Epoch 293/300\n",
            "9/9 [==============================] - 0s 5ms/step - loss: 0.3589 - accuracy: 0.8321\n",
            "Epoch 294/300\n",
            "9/9 [==============================] - 0s 2ms/step - loss: 0.3564 - accuracy: 0.8321\n",
            "Epoch 295/300\n",
            "9/9 [==============================] - 0s 2ms/step - loss: 0.3757 - accuracy: 0.8321\n",
            "Epoch 296/300\n",
            "9/9 [==============================] - 0s 2ms/step - loss: 0.3358 - accuracy: 0.8473\n",
            "Epoch 297/300\n",
            "9/9 [==============================] - 0s 2ms/step - loss: 0.3550 - accuracy: 0.8397\n",
            "Epoch 298/300\n",
            "9/9 [==============================] - 0s 2ms/step - loss: 0.3645 - accuracy: 0.8206\n",
            "Epoch 299/300\n",
            "9/9 [==============================] - 0s 3ms/step - loss: 0.3706 - accuracy: 0.8359\n",
            "Epoch 300/300\n",
            "9/9 [==============================] - 0s 2ms/step - loss: 0.3954 - accuracy: 0.8168\n"
          ],
          "name": "stdout"
        },
        {
          "output_type": "execute_result",
          "data": {
            "text/plain": [
              "<tensorflow.python.keras.callbacks.History at 0x2acc443b310>"
            ]
          },
          "metadata": {
            "tags": []
          },
          "execution_count": 89
        }
      ]
    },
    {
      "cell_type": "code",
      "metadata": {
        "id": "wA1md3TVfYc1"
      },
      "source": [
        "Y_pred_nn_1 = model.predict(X_test)"
      ],
      "execution_count": null,
      "outputs": []
    },
    {
      "cell_type": "code",
      "metadata": {
        "id": "coI3avVMfYc1"
      },
      "source": [
        "Y_pred_nn_r_1 = Y_pred_nn_1.round()"
      ],
      "execution_count": null,
      "outputs": []
    },
    {
      "cell_type": "code",
      "metadata": {
        "id": "fWSEV1SvfYc2",
        "outputId": "2a65b22d-a9f6-41a9-89ce-ebf2d0a5c5c2"
      },
      "source": [
        "score_nn_1 = round(accuracy_score(Y_pred_nn_r_1,Y_test)*100,2)\n",
        "\n",
        "print(\"The accuracy score achieved using Neural Network is: \"+str(score_nn_1)+\" %\")"
      ],
      "execution_count": null,
      "outputs": [
        {
          "output_type": "stream",
          "text": [
            "The accuracy score achieved using Neural Network is: 83.61 %\n"
          ],
          "name": "stdout"
        }
      ]
    },
    {
      "cell_type": "code",
      "metadata": {
        "id": "Ix_cla6dfYc2"
      },
      "source": [
        ""
      ],
      "execution_count": null,
      "outputs": []
    },
    {
      "cell_type": "markdown",
      "metadata": {
        "id": "-L3NvCmDfYc2"
      },
      "source": [
        "# we can achieve the best accuracy of 92% using Random Forest"
      ]
    }
  ]
}